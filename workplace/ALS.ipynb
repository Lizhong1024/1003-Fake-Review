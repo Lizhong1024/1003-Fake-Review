{
 "cells": [
  {
   "cell_type": "code",
   "execution_count": 1,
   "metadata": {},
   "outputs": [],
   "source": [
    "import numpy as np\n",
    "import pandas as pd\n",
    "import pickle as pkl\n",
    "from itertools import chain\n",
    "from collections import Counter"
   ]
  },
  {
   "cell_type": "code",
   "execution_count": 2,
   "metadata": {},
   "outputs": [],
   "source": [
    "# Load data\n",
    "train = pd.read_csv('../data/train.csv', index_col='ex_id')\n",
    "val = pd.read_csv('../data/dev.csv', index_col='ex_id')\n",
    "test = pd.read_csv('../data/test_no_label.csv', index_col='ex_id')\n",
    "\n",
    "# Load tokenized data\n",
    "train_data_tokens = pkl.load(open(\"../data/tokens/train_data_tokens.pkl\", \"rb\"))\n",
    "val_data_tokens = pkl.load(open(\"../data/tokens/val_data_tokens.pkl\", \"rb\"))\n",
    "test_data_tokens = pkl.load(open(\"../data/tokens/test_data_tokens.pkl\", \"rb\"))\n",
    "\n",
    "all_train_tokens = list(chain.from_iterable(train_data_tokens))\n",
    "\n",
    "# Get labels\n",
    "y_train = train.label.values\n",
    "y_val = val.label.values\n",
    "y_test = test.label.values"
   ]
  },
  {
   "cell_type": "code",
   "execution_count": 3,
   "metadata": {},
   "outputs": [],
   "source": [
    "# Vocab\n",
    "def build_vocab(all_tokens, threshold):\n",
    "\n",
    "    c = Counter(all_tokens)\n",
    "    vocab = [word for count, word in enumerate(Counter(all_train_tokens)) if count >= 10]\n",
    "    \n",
    "    id2token = vocab\n",
    "    token2id = dict(zip(vocab, range(len(vocab))))\n",
    "    return token2id, id2token\n",
    "\n",
    "token2id, id2token = build_vocab(all_train_tokens, 10)"
   ]
  },
  {
   "cell_type": "code",
   "execution_count": 4,
   "metadata": {},
   "outputs": [],
   "source": [
    "# TFIDF Vectorizer\n",
    "from sklearn.feature_extraction.text import TfidfVectorizer\n",
    "\n",
    "def dummy(doc):\n",
    "    return doc\n",
    "\n",
    "tfidf_vec = TfidfVectorizer(lowercase=False, preprocessor=dummy, tokenizer=dummy, vocabulary=token2id)  \n",
    "\n",
    "X_train_tfidf = tfidf_vec.fit_transform(train_data_tokens)\n",
    "X_val_tfidf = tfidf_vec.transform(val_data_tokens)\n",
    "X_test_tfidf = tfidf_vec.transform(test_data_tokens)"
   ]
  },
  {
   "cell_type": "markdown",
   "metadata": {},
   "source": [
    "### Latent Factor Model"
   ]
  },
  {
   "cell_type": "code",
   "execution_count": 18,
   "metadata": {},
   "outputs": [],
   "source": [
    "from surprise import SVD\n",
    "from surprise import Dataset, Reader, accuracy\n",
    "from surprise.model_selection import train_test_split"
   ]
  },
  {
   "cell_type": "code",
   "execution_count": 19,
   "metadata": {},
   "outputs": [],
   "source": [
    "# Get train data\n",
    "reader = Reader(rating_scale=(1, 5))\n",
    "data = Dataset.load_from_df(train[['user_id', 'prod_id', 'rating']], reader)"
   ]
  },
  {
   "cell_type": "code",
   "execution_count": 20,
   "metadata": {},
   "outputs": [],
   "source": [
    "# Get val data\n",
    "testset = Dataset.load_from_df(val[['user_id', 'prod_id', 'rating']], reader)\n",
    "_, testset = train_test_split(testset, test_size=1.)"
   ]
  },
  {
   "cell_type": "markdown",
   "metadata": {},
   "source": [
    "### Hyperparameter search"
   ]
  },
  {
   "cell_type": "markdown",
   "metadata": {},
   "source": [
    "#### 1. Rough search"
   ]
  },
  {
   "cell_type": "code",
   "execution_count": 33,
   "metadata": {},
   "outputs": [
    {
     "name": "stdout",
     "output_type": "stream",
     "text": [
      "Training with rank 50 and reg 0.001\n",
      "RMSE: 1.0594\n",
      "Training with rank 50 and reg 0.01\n",
      "RMSE: 1.0447\n",
      "Training with rank 50 and reg 0.1\n",
      "RMSE: 1.0283\n",
      "Training with rank 50 and reg 1\n",
      "RMSE: 1.0312\n",
      "Training with rank 100 and reg 0.001\n",
      "RMSE: 1.0667\n",
      "Training with rank 100 and reg 0.01\n",
      "RMSE: 1.0538\n",
      "Training with rank 100 and reg 0.1\n",
      "RMSE: 1.0287\n",
      "Training with rank 100 and reg 1\n",
      "RMSE: 1.0313\n",
      "Training with rank 200 and reg 0.001\n",
      "RMSE: 1.0752\n",
      "Training with rank 200 and reg 0.01\n",
      "RMSE: 1.0569\n",
      "Training with rank 200 and reg 0.1\n",
      "RMSE: 1.0299\n",
      "Training with rank 200 and reg 1\n",
      "RMSE: 1.0313\n",
      "Training with rank 400 and reg 0.001\n",
      "RMSE: 1.0826\n",
      "Training with rank 400 and reg 0.01\n",
      "RMSE: 1.0635\n",
      "Training with rank 400 and reg 0.1\n",
      "RMSE: 1.0310\n",
      "Training with rank 400 and reg 1\n",
      "RMSE: 1.0314\n"
     ]
    }
   ],
   "source": [
    "# Rough search\n",
    "rank_list = [50, 100, 200, 400]\n",
    "reg_list = [0.001, 0.01, 0.1, 1]\n",
    "result = {}\n",
    "\n",
    "for rank in rank_list:\n",
    "    for reg in reg_list:\n",
    "        print(f'Training with rank {rank} and reg {reg}')\n",
    "        algo = SVD(n_factors=rank, reg_all=reg)\n",
    "        algo.fit(data.build_full_trainset())\n",
    "        predictions = algo.test(testset)\n",
    "        rmse = accuracy.rmse(predictions)\n",
    "        if rank in result:\n",
    "            result[rank].append(rmse)\n",
    "        else:\n",
    "            result[rank] = [rmse]"
   ]
  },
  {
   "cell_type": "code",
   "execution_count": 34,
   "metadata": {},
   "outputs": [
    {
     "data": {
      "text/plain": [
       "{50: [1.0593586396339603,\n",
       "  1.044663904014853,\n",
       "  1.0282657404728706,\n",
       "  1.0312141442772111],\n",
       " 100: [1.0666732917935169,\n",
       "  1.053837992738709,\n",
       "  1.0287083669761958,\n",
       "  1.0312515353128495],\n",
       " 200: [1.075191951671995,\n",
       "  1.0568684221973264,\n",
       "  1.0298537205797462,\n",
       "  1.031287621034606],\n",
       " 400: [1.082625781457039,\n",
       "  1.0634642598530313,\n",
       "  1.030986122404164,\n",
       "  1.0313679327341458]}"
      ]
     },
     "execution_count": 34,
     "metadata": {},
     "output_type": "execute_result"
    }
   ],
   "source": [
    "result"
   ]
  },
  {
   "cell_type": "markdown",
   "metadata": {},
   "source": [
    "#### 2. Zoom in, from 10 to 190 inclusive"
   ]
  },
  {
   "cell_type": "code",
   "execution_count": 41,
   "metadata": {},
   "outputs": [
    {
     "name": "stdout",
     "output_type": "stream",
     "text": [
      "Training with rank 10 and reg 0.1\n",
      "RMSE: 1.0278\n",
      "Training with rank 20 and reg 0.1\n",
      "RMSE: 1.0278\n",
      "Training with rank 30 and reg 0.1\n",
      "RMSE: 1.0278\n",
      "Training with rank 40 and reg 0.1\n",
      "RMSE: 1.0280\n",
      "Training with rank 50 and reg 0.1\n",
      "RMSE: 1.0278\n",
      "Training with rank 60 and reg 0.1\n",
      "RMSE: 1.0279\n",
      "Training with rank 70 and reg 0.1\n",
      "RMSE: 1.0283\n",
      "Training with rank 80 and reg 0.1\n",
      "RMSE: 1.0285\n",
      "Training with rank 90 and reg 0.1\n",
      "RMSE: 1.0289\n",
      "Training with rank 100 and reg 0.1\n",
      "RMSE: 1.0287\n",
      "Training with rank 110 and reg 0.1\n",
      "RMSE: 1.0284\n",
      "Training with rank 120 and reg 0.1\n",
      "RMSE: 1.0287\n",
      "Training with rank 130 and reg 0.1\n",
      "RMSE: 1.0290\n",
      "Training with rank 140 and reg 0.1\n",
      "RMSE: 1.0290\n",
      "Training with rank 150 and reg 0.1\n",
      "RMSE: 1.0287\n",
      "Training with rank 160 and reg 0.1\n",
      "RMSE: 1.0296\n",
      "Training with rank 170 and reg 0.1\n",
      "RMSE: 1.0290\n",
      "Training with rank 180 and reg 0.1\n",
      "RMSE: 1.0294\n",
      "Training with rank 190 and reg 0.1\n",
      "RMSE: 1.0288\n"
     ]
    }
   ],
   "source": [
    "rank_list = list(range(10, 200, 10))\n",
    "reg = 0.1\n",
    "result = []\n",
    "\n",
    "for rank in rank_list:\n",
    "    print(f'Training with rank {rank} and reg {reg}')\n",
    "    algo = SVD(n_factors=rank, reg_all=reg)\n",
    "    algo.fit(data.build_full_trainset())\n",
    "    predictions = algo.test(testset)\n",
    "    rmse = accuracy.rmse(predictions)\n",
    "    result.append(rmse)"
   ]
  },
  {
   "cell_type": "code",
   "execution_count": 42,
   "metadata": {},
   "outputs": [
    {
     "data": {
      "text/plain": [
       "[1.0278462290110109,\n",
       " 1.0277819203688963,\n",
       " 1.0277629654690075,\n",
       " 1.0280344715479133,\n",
       " 1.02777423679093,\n",
       " 1.0279465724011618,\n",
       " 1.0283276522276261,\n",
       " 1.0284789498066362,\n",
       " 1.0289434988708062,\n",
       " 1.028741030114539,\n",
       " 1.0284358319557545,\n",
       " 1.0287447170186415,\n",
       " 1.0290124863744294,\n",
       " 1.0289712150271977,\n",
       " 1.028669870377683,\n",
       " 1.0295726933373899,\n",
       " 1.028959499625837,\n",
       " 1.0294497863177827,\n",
       " 1.028780790620609]"
      ]
     },
     "execution_count": 42,
     "metadata": {},
     "output_type": "execute_result"
    }
   ],
   "source": [
    "result"
   ]
  },
  {
   "cell_type": "code",
   "execution_count": 43,
   "metadata": {},
   "outputs": [],
   "source": [
    "import matplotlib.pyplot as plt"
   ]
  },
  {
   "cell_type": "code",
   "execution_count": 47,
   "metadata": {},
   "outputs": [
    {
     "data": {
      "image/png": "[encoded data removed]",
      "text/plain": [
       "<Figure size 432x288 with 1 Axes>"
      ]
     },
     "metadata": {
      "needs_background": "light"
     },
     "output_type": "display_data"
    }
   ],
   "source": [
    "plt.plot(rank_list, result)\n",
    "# plt.xticks(rank_list)\n",
    "plt.show()"
   ]
  },
  {
   "cell_type": "code",
   "execution_count": 54,
   "metadata": {},
   "outputs": [
    {
     "name": "stdout",
     "output_type": "stream",
     "text": [
      "Best rank is 30, RMSE is 1.0277629654690075\n"
     ]
    }
   ],
   "source": [
    "print(f'Best rank is {rank_list[result.index(min(result))]}, RMSE is {min(result)}')"
   ]
  },
  {
   "cell_type": "code",
   "execution_count": 59,
   "metadata": {},
   "outputs": [
    {
     "data": {
      "text/plain": [
       "(50, 1.02777423679093)"
      ]
     },
     "execution_count": 59,
     "metadata": {},
     "output_type": "execute_result"
    }
   ],
   "source": [
    "rank_list[4], result[4]"
   ]
  },
  {
   "cell_type": "markdown",
   "metadata": {},
   "source": [
    "#### Further zoom in, rank from 1 to 50"
   ]
  },
  {
   "cell_type": "code",
   "execution_count": 63,
   "metadata": {},
   "outputs": [
    {
     "name": "stdout",
     "output_type": "stream",
     "text": [
      "Training with rank 1 and reg 0.1\n",
      "RMSE: 1.0276\n",
      "Training with rank 2 and reg 0.1\n",
      "RMSE: 1.0276\n",
      "Training with rank 3 and reg 0.1\n",
      "RMSE: 1.0276\n",
      "Training with rank 4 and reg 0.1\n",
      "RMSE: 1.0276\n",
      "Training with rank 5 and reg 0.1\n",
      "RMSE: 1.0276\n",
      "Training with rank 6 and reg 0.1\n",
      "RMSE: 1.0276\n",
      "Training with rank 7 and reg 0.1\n",
      "RMSE: 1.0277\n",
      "Training with rank 8 and reg 0.1\n",
      "RMSE: 1.0276\n",
      "Training with rank 9 and reg 0.1\n",
      "RMSE: 1.0277\n",
      "Training with rank 10 and reg 0.1\n",
      "RMSE: 1.0276\n",
      "Training with rank 11 and reg 0.1\n",
      "RMSE: 1.0276\n",
      "Training with rank 12 and reg 0.1\n",
      "RMSE: 1.0277\n",
      "Training with rank 13 and reg 0.1\n",
      "RMSE: 1.0278\n",
      "Training with rank 14 and reg 0.1\n",
      "RMSE: 1.0278\n",
      "Training with rank 15 and reg 0.1\n",
      "RMSE: 1.0278\n",
      "Training with rank 16 and reg 0.1\n",
      "RMSE: 1.0278\n",
      "Training with rank 17 and reg 0.1\n",
      "RMSE: 1.0277\n",
      "Training with rank 18 and reg 0.1\n",
      "RMSE: 1.0278\n",
      "Training with rank 19 and reg 0.1\n",
      "RMSE: 1.0278\n",
      "Training with rank 20 and reg 0.1\n",
      "RMSE: 1.0277\n",
      "Training with rank 21 and reg 0.1\n",
      "RMSE: 1.0278\n",
      "Training with rank 22 and reg 0.1\n",
      "RMSE: 1.0279\n",
      "Training with rank 23 and reg 0.1\n",
      "RMSE: 1.0280\n",
      "Training with rank 24 and reg 0.1\n",
      "RMSE: 1.0277\n",
      "Training with rank 25 and reg 0.1\n",
      "RMSE: 1.0275\n",
      "Training with rank 26 and reg 0.1\n",
      "RMSE: 1.0278\n",
      "Training with rank 27 and reg 0.1\n",
      "RMSE: 1.0281\n",
      "Training with rank 28 and reg 0.1\n",
      "RMSE: 1.0279\n",
      "Training with rank 29 and reg 0.1\n",
      "RMSE: 1.0279\n",
      "Training with rank 30 and reg 0.1\n",
      "RMSE: 1.0280\n",
      "Training with rank 31 and reg 0.1\n",
      "RMSE: 1.0278\n",
      "Training with rank 32 and reg 0.1\n",
      "RMSE: 1.0277\n",
      "Training with rank 33 and reg 0.1\n",
      "RMSE: 1.0282\n",
      "Training with rank 34 and reg 0.1\n",
      "RMSE: 1.0280\n",
      "Training with rank 35 and reg 0.1\n",
      "RMSE: 1.0278\n",
      "Training with rank 36 and reg 0.1\n",
      "RMSE: 1.0277\n",
      "Training with rank 37 and reg 0.1\n",
      "RMSE: 1.0281\n",
      "Training with rank 38 and reg 0.1\n",
      "RMSE: 1.0282\n",
      "Training with rank 39 and reg 0.1\n",
      "RMSE: 1.0282\n",
      "Training with rank 40 and reg 0.1\n",
      "RMSE: 1.0281\n",
      "Training with rank 41 and reg 0.1\n",
      "RMSE: 1.0280\n",
      "Training with rank 42 and reg 0.1\n",
      "RMSE: 1.0280\n",
      "Training with rank 43 and reg 0.1\n",
      "RMSE: 1.0282\n",
      "Training with rank 44 and reg 0.1\n",
      "RMSE: 1.0281\n",
      "Training with rank 45 and reg 0.1\n",
      "RMSE: 1.0283\n",
      "Training with rank 46 and reg 0.1\n",
      "RMSE: 1.0283\n",
      "Training with rank 47 and reg 0.1\n",
      "RMSE: 1.0279\n",
      "Training with rank 48 and reg 0.1\n",
      "RMSE: 1.0281\n",
      "Training with rank 49 and reg 0.1\n",
      "RMSE: 1.0280\n",
      "Training with rank 50 and reg 0.1\n",
      "RMSE: 1.0284\n"
     ]
    }
   ],
   "source": [
    "# Further zoom in\n",
    "\n",
    "rank_list = list(range(1, 51)) # from 1 to 50 inclusive\n",
    "reg = 0.1\n",
    "result = []\n",
    "\n",
    "for rank in rank_list:\n",
    "    print(f'Training with rank {rank} and reg {reg}')\n",
    "    algo = SVD(n_factors=rank, reg_all=reg)\n",
    "    algo.fit(data.build_full_trainset())\n",
    "    predictions = algo.test(testset)\n",
    "    rmse = accuracy.rmse(predictions)\n",
    "    result.append(rmse)"
   ]
  },
  {
   "cell_type": "code",
   "execution_count": 64,
   "metadata": {},
   "outputs": [
    {
     "data": {
      "text/plain": [
       "[1.0275801292311055,\n",
       " 1.0275510512658792,\n",
       " 1.0275751940450133,\n",
       " 1.0276328222919031,\n",
       " 1.027590865378108,\n",
       " 1.0275814318082095,\n",
       " 1.0277147894917942,\n",
       " 1.0276462117638574,\n",
       " 1.0277139526952195,\n",
       " 1.0276327802040068,\n",
       " 1.0276051049772224,\n",
       " 1.0277175655870054,\n",
       " 1.0278294275835227,\n",
       " 1.0277720001786887,\n",
       " 1.0278004088669543,\n",
       " 1.0278261011028795,\n",
       " 1.027744130465523,\n",
       " 1.02779604838231,\n",
       " 1.0277742448995608,\n",
       " 1.0277162127598949,\n",
       " 1.0277560266544752,\n",
       " 1.027861276199262,\n",
       " 1.027976968190892,\n",
       " 1.0277218738131972,\n",
       " 1.0275430540151373,\n",
       " 1.0277782137574967,\n",
       " 1.028062368699627,\n",
       " 1.0278775206736634,\n",
       " 1.0278703575379464,\n",
       " 1.0279783239613003,\n",
       " 1.0278497490039014,\n",
       " 1.0276760194917969,\n",
       " 1.0281721140044016,\n",
       " 1.0279998512177586,\n",
       " 1.0277933457315516,\n",
       " 1.0277265683329,\n",
       " 1.0280505218436613,\n",
       " 1.0281768338481296,\n",
       " 1.0282146719018348,\n",
       " 1.02809210897026,\n",
       " 1.0280429040468382,\n",
       " 1.0280162782843918,\n",
       " 1.0282071060099405,\n",
       " 1.02807163955889,\n",
       " 1.0282690102710763,\n",
       " 1.028292156574374,\n",
       " 1.0278648076414296,\n",
       " 1.028094786171722,\n",
       " 1.0280375327046616,\n",
       " 1.0283686737368518]"
      ]
     },
     "execution_count": 64,
     "metadata": {},
     "output_type": "execute_result"
    }
   ],
   "source": [
    "result"
   ]
  },
  {
   "cell_type": "code",
   "execution_count": 65,
   "metadata": {},
   "outputs": [
    {
     "data": {
      "image/png": "[encoded data removed]",
      "text/plain": [
       "<Figure size 432x288 with 1 Axes>"
      ]
     },
     "metadata": {
      "needs_background": "light"
     },
     "output_type": "display_data"
    }
   ],
   "source": [
    "plt.plot(rank_list, result)\n",
    "# plt.xticks(rank_list)\n",
    "plt.show()"
   ]
  },
  {
   "cell_type": "code",
   "execution_count": 66,
   "metadata": {},
   "outputs": [
    {
     "name": "stdout",
     "output_type": "stream",
     "text": [
      "Best rank is 25, RMSE is 1.0275430540151373\n"
     ]
    }
   ],
   "source": [
    "print(f'Best rank is {rank_list[result.index(min(result))]}, RMSE is {min(result)}')"
   ]
  },
  {
   "cell_type": "markdown",
   "metadata": {},
   "source": [
    "### Train with the best config"
   ]
  },
  {
   "cell_type": "code",
   "execution_count": 69,
   "metadata": {},
   "outputs": [
    {
     "name": "stdout",
     "output_type": "stream",
     "text": [
      "RMSE: 1.0278\n"
     ]
    }
   ],
   "source": [
    "rank = 25\n",
    "reg = 0.1\n",
    "\n",
    "algo = SVD(n_factors=rank, reg_all=reg)\n",
    "algo.fit(data.build_full_trainset())\n",
    "predictions = algo.test(testset)\n",
    "rmse = accuracy.rmse(predictions)"
   ]
  },
  {
   "cell_type": "code",
   "execution_count": 70,
   "metadata": {},
   "outputs": [],
   "source": [
    "user_factors = algo.pu\n",
    "product_factors = algo.qi"
   ]
  },
  {
   "cell_type": "code",
   "execution_count": 72,
   "metadata": {},
   "outputs": [
    {
     "data": {
      "text/plain": [
       "125679"
      ]
     },
     "execution_count": 72,
     "metadata": {},
     "output_type": "execute_result"
    }
   ],
   "source": [
    "len(user_factors)"
   ]
  },
  {
   "cell_type": "code",
   "execution_count": 78,
   "metadata": {},
   "outputs": [
    {
     "data": {
      "text/plain": [
       "(125679,)"
      ]
     },
     "execution_count": 78,
     "metadata": {},
     "output_type": "execute_result"
    }
   ],
   "source": [
    "train['user_id'].unique().shape"
   ]
  },
  {
   "cell_type": "code",
   "execution_count": 79,
   "metadata": {},
   "outputs": [
    {
     "data": {
      "text/plain": [
       "923"
      ]
     },
     "execution_count": 79,
     "metadata": {},
     "output_type": "execute_result"
    }
   ],
   "source": [
    "len(product_factors)"
   ]
  },
  {
   "cell_type": "code",
   "execution_count": 82,
   "metadata": {},
   "outputs": [
    {
     "data": {
      "text/plain": [
       "(923,)"
      ]
     },
     "execution_count": 82,
     "metadata": {},
     "output_type": "execute_result"
    }
   ],
   "source": [
    "train['prod_id'].unique().shape"
   ]
  }
 ],
 "metadata": {
  "kernelspec": {
   "display_name": "Python 3",
   "language": "python",
   "name": "python3"
  },
  "language_info": {
   "codemirror_mode": {
    "name": "ipython",
    "version": 3
   },
   "file_extension": ".py",
   "mimetype": "text/x-python",
   "name": "python",
   "nbconvert_exporter": "python",
   "pygments_lexer": "ipython3",
   "version": "3.7.6"
  }
 },
 "nbformat": 4,
 "nbformat_minor": 4
}
