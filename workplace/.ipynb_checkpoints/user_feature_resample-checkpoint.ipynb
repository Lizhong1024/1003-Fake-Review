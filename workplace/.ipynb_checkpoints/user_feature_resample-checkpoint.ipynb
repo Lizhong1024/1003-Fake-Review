{
 "cells": [
  {
   "cell_type": "code",
   "execution_count": 1,
   "metadata": {},
   "outputs": [],
   "source": [
    "import numpy as np\n",
    "import pandas as pd\n",
    "import pickle as pkl\n",
    "from itertools import chain\n",
    "from collections import Counter, defaultdict"
   ]
  },
  {
   "cell_type": "code",
   "execution_count": 13,
   "metadata": {},
   "outputs": [],
   "source": [
    "from sklearn.metrics import roc_auc_score, classification_report\n",
    "from sklearn.metrics import roc_curve, auc, confusion_matrix\n",
    "from sklearn.metrics import average_precision_score\n",
    "\n",
    "def evaluate(model, X=X_val, y=y_val):\n",
    "    y_scores = model.predict_proba(X)[:, 1]\n",
    "    print('Accuracy: ', model.score(X, y))\n",
    "    print('AUC: ', roc_auc_score(y, y_scores))\n",
    "    print('AP: ', average_precision_score(y, y_scores))\n",
    "    print('\\nConfusion Matrix')\n",
    "    print(confusion_matrix(y, model.predict(X)))"
   ]
  },
  {
   "cell_type": "code",
   "execution_count": 2,
   "metadata": {},
   "outputs": [],
   "source": [
    "# Load data\n",
    "train = pd.read_csv('../data/train.csv', index_col='ex_id')\n",
    "val = pd.read_csv('../data/dev.csv', index_col='ex_id')\n",
    "\n",
    "# Load tokenized data\n",
    "train_data_tokens = pkl.load(open(\"../data/tokens/train_data_tokens.pkl\", \"rb\"))\n",
    "val_data_tokens = pkl.load(open(\"../data/tokens/val_data_tokens.pkl\", \"rb\"))\n",
    "all_train_tokens = list(chain.from_iterable(train_data_tokens))\n",
    "\n",
    "# Get labels\n",
    "y_train = train.label.values\n",
    "y_val = val.label.values\n",
    "\n",
    "# Vocab\n",
    "def build_vocab(all_tokens, threshold):\n",
    "    c = Counter(all_tokens)\n",
    "    vocab = [word for word, count in Counter(all_train_tokens).items() if count >= threshold]\n",
    "    id2token = vocab\n",
    "    token2id = dict(zip(vocab, range(len(vocab))))\n",
    "    return token2id, id2token\n",
    "\n",
    "token2id, id2token = build_vocab(all_train_tokens, 20)"
   ]
  },
  {
   "cell_type": "code",
   "execution_count": 3,
   "metadata": {},
   "outputs": [],
   "source": [
    "# TFIDF Vectorizer\n",
    "from sklearn.feature_extraction.text import TfidfVectorizer\n",
    "\n",
    "def dummy(doc):\n",
    "    return doc\n",
    "\n",
    "tfidf_vec = TfidfVectorizer(lowercase=False, preprocessor=dummy, tokenizer=dummy, vocabulary=token2id)  \n",
    "\n",
    "X_train_tfidf = tfidf_vec.fit_transform(train_data_tokens)\n",
    "X_val_tfidf = tfidf_vec.transform(val_data_tokens)"
   ]
  },
  {
   "cell_type": "markdown",
   "metadata": {},
   "source": [
    "### Train Latent Factor Model"
   ]
  },
  {
   "cell_type": "markdown",
   "metadata": {},
   "source": [
    "#### MyAlgo"
   ]
  },
  {
   "cell_type": "code",
   "execution_count": 4,
   "metadata": {},
   "outputs": [],
   "source": [
    "from surprise import AlgoBase\n",
    "from surprise import SVD\n",
    "from surprise import PredictionImpossible"
   ]
  },
  {
   "cell_type": "code",
   "execution_count": 5,
   "metadata": {},
   "outputs": [],
   "source": [
    "class MyAlgo(SVD):\n",
    "\n",
    "    def __init__(self, n_factors=25, n_epochs=20, biased=False, \n",
    "                 lr_all=.005, reg_all=.1, random_state=None, verbose=False):\n",
    "\n",
    "        SVD.__init__(self, n_factors=n_factors, n_epochs=n_epochs, \n",
    "                     biased=biased, lr_all=lr_all, reg_all=reg_all, \n",
    "                     random_state=random_state, verbose=verbose)\n",
    "\n",
    "    def fit(self, trainset):\n",
    "\n",
    "        SVD.fit(self, trainset)\n",
    "\n",
    "        return self\n",
    "\n",
    "    def estimate(self, u, i):\n",
    "\n",
    "        known_user = self.trainset.knows_user(u)\n",
    "        known_item = self.trainset.knows_item(i)\n",
    "\n",
    "        if known_user and known_item:\n",
    "\n",
    "            if self.biased:\n",
    "                est = self.trainset.global_mean\n",
    "                if known_user:\n",
    "                    est += self.bu[u]\n",
    "\n",
    "                if known_item:\n",
    "                    est += self.bi[i]\n",
    "\n",
    "                if known_user and known_item:\n",
    "                    est += np.dot(self.qi[i], self.pu[u])\n",
    "\n",
    "            else:\n",
    "                est = np.dot(self.qi[i], self.pu[u])    \n",
    "\n",
    "        else:\n",
    "            est = 0\n",
    "            raise PredictionImpossible('User and item are unknown.')\n",
    "\n",
    "        return est\n",
    "    \n",
    "    def test(self, testset, clip=False, verbose=False):\n",
    "        predictions = [self.predict(uid,\n",
    "                                    iid,\n",
    "                                    r_ui_trans,\n",
    "                                    clip=clip,\n",
    "                                    verbose=verbose)\n",
    "                       for (uid, iid, r_ui_trans) in testset]\n",
    "        return predictions"
   ]
  },
  {
   "cell_type": "markdown",
   "metadata": {},
   "source": [
    "#### Construct ALS Dataset"
   ]
  },
  {
   "cell_type": "code",
   "execution_count": 6,
   "metadata": {},
   "outputs": [],
   "source": [
    "from surprise import Dataset, Reader, accuracy\n",
    "from surprise.model_selection import train_test_split\n",
    "\n",
    "# Get train data\n",
    "# SELECT user_id, prod_id, rating FROM train WHERE label = 0\n",
    "train_als = train[(train['label'] == 0)][['user_id', 'prod_id', 'rating']]\n",
    "\n",
    "# The columns must correspond to user id, item id and ratings (in that order)\n",
    "reader = Reader(rating_scale=(1, 5))\n",
    "data = Dataset.load_from_df(train_als[['user_id', 'prod_id', 'rating']], reader)"
   ]
  },
  {
   "cell_type": "markdown",
   "metadata": {},
   "source": [
    "#### Train model"
   ]
  },
  {
   "cell_type": "code",
   "execution_count": 7,
   "metadata": {},
   "outputs": [
    {
     "data": {
      "text/plain": [
       "<__main__.MyAlgo at 0x148248e50>"
      ]
     },
     "execution_count": 7,
     "metadata": {},
     "output_type": "execute_result"
    }
   ],
   "source": [
    "rank = 25\n",
    "reg = 0.1\n",
    "\n",
    "algo = MyAlgo(n_factors=rank, reg_all=reg, biased=True,\n",
    "              lr_all=0.005, n_epochs=30, verbose=False, random_state=None)\n",
    "\n",
    "algo_trainset = data.build_full_trainset()\n",
    "algo.fit(algo_trainset)\n",
    "\n",
    "# user_factors = algo.pu\n",
    "# prod_factors = algo.qi"
   ]
  },
  {
   "cell_type": "markdown",
   "metadata": {},
   "source": [
    "#### Generate rating features & Combine rating features and review features"
   ]
  },
  {
   "cell_type": "code",
   "execution_count": 8,
   "metadata": {},
   "outputs": [],
   "source": [
    "from scipy.sparse import csr_matrix, coo_matrix, hstack\n",
    "\n",
    "def combine_features(user_features, rating_features, review_features):\n",
    "    return hstack( [user_features, csr_matrix(rating_features), review_features], format='csr' )\n",
    "\n",
    "def get_rating_features(val, algo):\n",
    "    testset = list(zip(val['user_id'].values, val['prod_id'].values, val['rating'].values))\n",
    "    predictions = algo.test(testset)\n",
    "    pred_rating = []\n",
    "    is_missing = []\n",
    "    actual_rating = []\n",
    "    diff = []\n",
    "    \n",
    "    for pred in predictions:\n",
    "        pred_rating.append(pred.est)\n",
    "        is_missing.append( int(pred.details['was_impossible']) )\n",
    "        actual_rating.append(pred.r_ui)\n",
    "        diff.append(pred.r_ui - pred.est)\n",
    "    \n",
    "    rating_features = list(zip(pred_rating, is_missing, actual_rating, diff))\n",
    "\n",
    "    return rating_features\n",
    "\n",
    "def get_user_features(dataset):\n",
    "    users = dataset['user_id']\n",
    "    users_fake_cnts = Counter(train[train['label'] == 1]['user_id'])\n",
    "    users_feature = [users_fake_cnts[user] if user in users_fake_cnts else 0 for user in users]\n",
    "    return np.array(users_feature).reshape([len(users_feature), 1])"
   ]
  },
  {
   "cell_type": "code",
   "execution_count": 11,
   "metadata": {},
   "outputs": [],
   "source": [
    "train_users_features = get_user_features(train)\n",
    "val_users_features = get_user_features(val)\n",
    "\n",
    "train_rating_features = get_rating_features(train, algo)\n",
    "val_rating_features = get_rating_features(val, algo)\n",
    "\n",
    "X_train = combine_features(train_users_features, train_rating_features, X_train_tfidf)\n",
    "X_val = combine_features(val_users_features, val_rating_features, X_val_tfidf)"
   ]
  },
  {
   "cell_type": "markdown",
   "metadata": {},
   "source": [
    "#### Baseline with no rescale"
   ]
  },
  {
   "cell_type": "code",
   "execution_count": 14,
   "metadata": {},
   "outputs": [
    {
     "name": "stdout",
     "output_type": "stream",
     "text": [
      "Accuracy:  0.7222005679603541\n",
      "AUC:  0.8997672419592908\n",
      "AP:  0.5579835177941065\n",
      "\n",
      "Confusion Matrix\n",
      "[[22362  9908]\n",
      " [   70  3578]]\n"
     ]
    }
   ],
   "source": [
    "from sklearn.linear_model import LogisticRegression\n",
    "\n",
    "lr = LogisticRegression(C=0.4, max_iter=1000)\n",
    "lr.fit(X_train, y_train)\n",
    "\n",
    "evaluate(lr)"
   ]
  },
  {
   "cell_type": "markdown",
   "metadata": {},
   "source": [
    "## Rescale"
   ]
  },
  {
   "cell_type": "code",
   "execution_count": 17,
   "metadata": {},
   "outputs": [],
   "source": [
    "from sklearn.preprocessing import MaxAbsScaler\n",
    "\n",
    "scaler = MaxAbsScaler()\n",
    "scaler.fit(X_train)\n",
    "\n",
    "X_train = scaler.transform(X_train)\n",
    "X_val = scaler.transform(X_val)"
   ]
  },
  {
   "cell_type": "markdown",
   "metadata": {},
   "source": [
    "#### Rescale Baaeline"
   ]
  },
  {
   "cell_type": "code",
   "execution_count": 18,
   "metadata": {},
   "outputs": [
    {
     "name": "stdout",
     "output_type": "stream",
     "text": [
      "Accuracy:  0.717356200233866\n",
      "AUC:  0.9004893775925713\n",
      "AP:  0.5615543681425152\n",
      "\n",
      "Confusion Matrix\n",
      "[[22166 10104]\n",
      " [   48  3600]]\n"
     ]
    }
   ],
   "source": [
    "from sklearn.linear_model import LogisticRegression\n",
    "\n",
    "lr = LogisticRegression(C=0.4, max_iter=1000)\n",
    "lr.fit(X_train, y_train)\n",
    "\n",
    "evaluate(lr)"
   ]
  },
  {
   "cell_type": "markdown",
   "metadata": {},
   "source": [
    "### Random Oversample"
   ]
  },
  {
   "cell_type": "code",
   "execution_count": 19,
   "metadata": {},
   "outputs": [],
   "source": [
    "from imblearn.over_sampling import RandomOverSampler\n",
    "ros = RandomOverSampler()\n",
    "X_train_ros, y_train_ros = ros.fit_resample(X_train, y_train)"
   ]
  },
  {
   "cell_type": "code",
   "execution_count": 20,
   "metadata": {},
   "outputs": [
    {
     "name": "stdout",
     "output_type": "stream",
     "text": [
      "Accuracy:  0.12419956567737625\n",
      "AUC:  0.8902971059699138\n",
      "AP:  0.5387994537929612\n",
      "\n",
      "Confusion Matrix\n",
      "[[  814 31456]\n",
      " [    1  3647]]\n"
     ]
    }
   ],
   "source": [
    "lr_ros = LogisticRegression(C=0.4, max_iter=1000)\n",
    "lr_ros.fit(X_train_ros, y_train_ros)\n",
    "\n",
    "evaluate(lr_ros)"
   ]
  },
  {
   "cell_type": "markdown",
   "metadata": {},
   "source": [
    "### Random Downsample"
   ]
  },
  {
   "cell_type": "code",
   "execution_count": 21,
   "metadata": {},
   "outputs": [],
   "source": [
    "from imblearn.under_sampling import RandomUnderSampler\n",
    "rus = RandomUnderSampler()\n",
    "X_train_rus, y_train_rus = rus.fit_resample(X_train, y_train)"
   ]
  },
  {
   "cell_type": "code",
   "execution_count": 22,
   "metadata": {},
   "outputs": [
    {
     "name": "stdout",
     "output_type": "stream",
     "text": [
      "Accuracy:  0.717356200233866\n",
      "AUC:  0.8994742440088832\n",
      "AP:  0.5548302821827835\n",
      "\n",
      "Confusion Matrix\n",
      "[[22166 10104]\n",
      " [   48  3600]]\n"
     ]
    }
   ],
   "source": [
    "lr_rus = LogisticRegression(C=0.4, max_iter=1000)\n",
    "lr_rus.fit(X_train_rus, y_train_rus)\n",
    "\n",
    "evaluate(lr_rus)"
   ]
  },
  {
   "cell_type": "markdown",
   "metadata": {},
   "source": [
    "### SMOTE Oversample"
   ]
  },
  {
   "cell_type": "code",
   "execution_count": 23,
   "metadata": {},
   "outputs": [],
   "source": [
    "from imblearn.over_sampling import SMOTE\n",
    "X_train_smote, y_train_smote = SMOTE().fit_resample(X_train, y_train)"
   ]
  },
  {
   "cell_type": "code",
   "execution_count": 24,
   "metadata": {},
   "outputs": [
    {
     "name": "stdout",
     "output_type": "stream",
     "text": [
      "Accuracy:  0.7171891530708837\n",
      "AUC:  0.8876626855574403\n",
      "AP:  0.5301943492235843\n",
      "\n",
      "Confusion Matrix\n",
      "[[22160 10110]\n",
      " [   48  3600]]\n"
     ]
    }
   ],
   "source": [
    "lr_smote = LogisticRegression(C=0.4, max_iter=1000)\n",
    "lr_smote.fit(X_train_smote, y_train_smote)\n",
    "\n",
    "evaluate(lr_smote)"
   ]
  },
  {
   "cell_type": "markdown",
   "metadata": {},
   "source": [
    "### ADASYN"
   ]
  },
  {
   "cell_type": "code",
   "execution_count": 25,
   "metadata": {},
   "outputs": [],
   "source": [
    "from imblearn.over_sampling import ADASYN\n",
    "X_train_ADASYN, y_train_ADASYN = ADASYN().fit_resample(X_train, y_train)"
   ]
  },
  {
   "cell_type": "code",
   "execution_count": 26,
   "metadata": {},
   "outputs": [
    {
     "name": "stdout",
     "output_type": "stream",
     "text": [
      "Accuracy:  0.34286430202127066\n",
      "AUC:  0.887336150673593\n",
      "AP:  0.5092468678058066\n",
      "\n",
      "Confusion Matrix\n",
      "[[ 8681 23589]\n",
      " [   14  3634]]\n"
     ]
    }
   ],
   "source": [
    "lr_ADASYN = LogisticRegression(C=0.4, max_iter=1000)\n",
    "lr_ADASYN.fit(X_train_ADASYN, y_train_ADASYN)\n",
    "\n",
    "evaluate(lr_ADASYN)"
   ]
  },
  {
   "cell_type": "markdown",
   "metadata": {},
   "source": [
    "### NearMiss 1"
   ]
  },
  {
   "cell_type": "code",
   "execution_count": 27,
   "metadata": {},
   "outputs": [],
   "source": [
    "from imblearn.under_sampling import NearMiss\n",
    "nm1 = NearMiss(version=1)\n",
    "X_train_nm1, y_train_nm1 = nm1.fit_resample(X_train, y_train)"
   ]
  },
  {
   "cell_type": "code",
   "execution_count": 28,
   "metadata": {},
   "outputs": [
    {
     "name": "stdout",
     "output_type": "stream",
     "text": [
      "Accuracy:  0.7184976891809121\n",
      "AUC:  0.8822466194635177\n",
      "AP:  0.5338120574950587\n",
      "\n",
      "Confusion Matrix\n",
      "[[22250 10020]\n",
      " [   91  3557]]\n"
     ]
    }
   ],
   "source": [
    "lr_nm1 = LogisticRegression(C=0.4, max_iter=1000)\n",
    "lr_nm1.fit(X_train_nm1, y_train_nm1)\n",
    "\n",
    "evaluate(lr_nm1)"
   ]
  },
  {
   "cell_type": "code",
   "execution_count": null,
   "metadata": {},
   "outputs": [],
   "source": []
  },
  {
   "cell_type": "code",
   "execution_count": null,
   "metadata": {},
   "outputs": [],
   "source": []
  },
  {
   "cell_type": "markdown",
   "metadata": {},
   "source": [
    "---"
   ]
  },
  {
   "cell_type": "code",
   "execution_count": 18,
   "metadata": {},
   "outputs": [
    {
     "data": {
      "text/plain": [
       "array([[26],\n",
       "       [ 1],\n",
       "       [ 2],\n",
       "       ...,\n",
       "       [ 0],\n",
       "       [ 0],\n",
       "       [ 0]])"
      ]
     },
     "execution_count": 18,
     "metadata": {},
     "output_type": "execute_result"
    }
   ],
   "source": [
    "train_users_features"
   ]
  },
  {
   "cell_type": "code",
   "execution_count": 28,
   "metadata": {},
   "outputs": [
    {
     "data": {
      "text/plain": [
       "(array([2]),)"
      ]
     },
     "execution_count": 28,
     "metadata": {},
     "output_type": "execute_result"
    }
   ],
   "source": [
    "np.where(lr.coef_.squeeze() == lr.coef_.max())"
   ]
  },
  {
   "cell_type": "code",
   "execution_count": 30,
   "metadata": {},
   "outputs": [
    {
     "data": {
      "text/plain": [
       "12.155976621854238"
      ]
     },
     "execution_count": 30,
     "metadata": {},
     "output_type": "execute_result"
    }
   ],
   "source": [
    "lr.coef_[0][2]"
   ]
  },
  {
   "cell_type": "code",
   "execution_count": 19,
   "metadata": {},
   "outputs": [
    {
     "data": {
      "text/plain": [
       "12.155976621854238"
      ]
     },
     "execution_count": 19,
     "metadata": {},
     "output_type": "execute_result"
    }
   ],
   "source": [
    "lr.coef_.max()"
   ]
  },
  {
   "cell_type": "code",
   "execution_count": 122,
   "metadata": {},
   "outputs": [],
   "source": [
    "coef = lr.coef_.squeeze()"
   ]
  },
  {
   "cell_type": "code",
   "execution_count": 113,
   "metadata": {},
   "outputs": [
    {
     "data": {
      "text/plain": [
       "(array([    0,     1,     2,     3,     4,     5,     6,     7,     8,\n",
       "            9,    10,    11,    12,    13,    14,    15,    16,    17,\n",
       "           18,    19, 14751, 14752, 14753, 14754, 14755, 14756, 14757,\n",
       "        14758, 14759, 14760, 14761, 14762, 14763, 14764, 14765, 14766,\n",
       "        14767, 14768, 14769]),)"
      ]
     },
     "execution_count": 113,
     "metadata": {},
     "output_type": "execute_result"
    }
   ],
   "source": [
    "np.where(abs(coef) >= 0.5)"
   ]
  },
  {
   "cell_type": "code",
   "execution_count": 37,
   "metadata": {},
   "outputs": [],
   "source": [
    "coef = np.array(sorted(coef))"
   ]
  },
  {
   "cell_type": "code",
   "execution_count": 42,
   "metadata": {},
   "outputs": [],
   "source": [
    "import matplotlib.pyplot as plt"
   ]
  },
  {
   "cell_type": "code",
   "execution_count": 43,
   "metadata": {},
   "outputs": [
    {
     "data": {
      "text/plain": [
       "[<matplotlib.lines.Line2D at 0x1a79aaa790>]"
      ]
     },
     "execution_count": 43,
     "metadata": {},
     "output_type": "execute_result"
    },
    {
     "data": {
      "image/png": "[encoded data removed]",
      "text/plain": [
       "<Figure size 432x288 with 1 Axes>"
      ]
     },
     "metadata": {
      "needs_background": "light"
     },
     "output_type": "display_data"
    }
   ],
   "source": [
    "plt.plot(coef)"
   ]
  },
  {
   "cell_type": "code",
   "execution_count": 58,
   "metadata": {},
   "outputs": [],
   "source": [
    "abs_coef = pd.Series(abs(coef), name='coef').to_frame()"
   ]
  },
  {
   "cell_type": "code",
   "execution_count": 54,
   "metadata": {},
   "outputs": [
    {
     "data": {
      "text/html": [
       "<div>\n",
       "<style scoped>\n",
       "    .dataframe tbody tr th:only-of-type {\n",
       "        vertical-align: middle;\n",
       "    }\n",
       "\n",
       "    .dataframe tbody tr th {\n",
       "        vertical-align: top;\n",
       "    }\n",
       "\n",
       "    .dataframe thead th {\n",
       "        text-align: right;\n",
       "    }\n",
       "</style>\n",
       "<table border=\"1\" class=\"dataframe\">\n",
       "  <thead>\n",
       "    <tr style=\"text-align: right;\">\n",
       "      <th></th>\n",
       "      <th>0</th>\n",
       "    </tr>\n",
       "  </thead>\n",
       "  <tbody>\n",
       "    <tr>\n",
       "      <th>count</th>\n",
       "      <td>14770.000000</td>\n",
       "    </tr>\n",
       "    <tr>\n",
       "      <th>mean</th>\n",
       "      <td>0.036064</td>\n",
       "    </tr>\n",
       "    <tr>\n",
       "      <th>std</th>\n",
       "      <td>0.118985</td>\n",
       "    </tr>\n",
       "    <tr>\n",
       "      <th>min</th>\n",
       "      <td>0.000047</td>\n",
       "    </tr>\n",
       "    <tr>\n",
       "      <th>25%</th>\n",
       "      <td>0.004701</td>\n",
       "    </tr>\n",
       "    <tr>\n",
       "      <th>50%</th>\n",
       "      <td>0.010205</td>\n",
       "    </tr>\n",
       "    <tr>\n",
       "      <th>75%</th>\n",
       "      <td>0.035069</td>\n",
       "    </tr>\n",
       "    <tr>\n",
       "      <th>max</th>\n",
       "      <td>12.155977</td>\n",
       "    </tr>\n",
       "  </tbody>\n",
       "</table>\n",
       "</div>"
      ],
      "text/plain": [
       "                  0\n",
       "count  14770.000000\n",
       "mean       0.036064\n",
       "std        0.118985\n",
       "min        0.000047\n",
       "25%        0.004701\n",
       "50%        0.010205\n",
       "75%        0.035069\n",
       "max       12.155977"
      ]
     },
     "execution_count": 54,
     "metadata": {},
     "output_type": "execute_result"
    }
   ],
   "source": [
    "pd.Series(abs(coef)).to_frame().describe()"
   ]
  },
  {
   "cell_type": "code",
   "execution_count": 61,
   "metadata": {},
   "outputs": [
    {
     "data": {
      "text/html": [
       "<div>\n",
       "<style scoped>\n",
       "    .dataframe tbody tr th:only-of-type {\n",
       "        vertical-align: middle;\n",
       "    }\n",
       "\n",
       "    .dataframe tbody tr th {\n",
       "        vertical-align: top;\n",
       "    }\n",
       "\n",
       "    .dataframe thead th {\n",
       "        text-align: right;\n",
       "    }\n",
       "</style>\n",
       "<table border=\"1\" class=\"dataframe\">\n",
       "  <thead>\n",
       "    <tr style=\"text-align: right;\">\n",
       "      <th></th>\n",
       "      <th>coef</th>\n",
       "    </tr>\n",
       "  </thead>\n",
       "  <tbody>\n",
       "    <tr>\n",
       "      <th>0</th>\n",
       "      <td>1.039373</td>\n",
       "    </tr>\n",
       "    <tr>\n",
       "      <th>1</th>\n",
       "      <td>0.995869</td>\n",
       "    </tr>\n",
       "    <tr>\n",
       "      <th>2</th>\n",
       "      <td>0.840499</td>\n",
       "    </tr>\n",
       "    <tr>\n",
       "      <th>3</th>\n",
       "      <td>0.771169</td>\n",
       "    </tr>\n",
       "    <tr>\n",
       "      <th>4</th>\n",
       "      <td>0.760166</td>\n",
       "    </tr>\n",
       "    <tr>\n",
       "      <th>...</th>\n",
       "      <td>...</td>\n",
       "    </tr>\n",
       "    <tr>\n",
       "      <th>14765</th>\n",
       "      <td>0.712147</td>\n",
       "    </tr>\n",
       "    <tr>\n",
       "      <th>14766</th>\n",
       "      <td>0.874668</td>\n",
       "    </tr>\n",
       "    <tr>\n",
       "      <th>14767</th>\n",
       "      <td>0.879285</td>\n",
       "    </tr>\n",
       "    <tr>\n",
       "      <th>14768</th>\n",
       "      <td>1.009048</td>\n",
       "    </tr>\n",
       "    <tr>\n",
       "      <th>14769</th>\n",
       "      <td>12.155977</td>\n",
       "    </tr>\n",
       "  </tbody>\n",
       "</table>\n",
       "<p>14770 rows × 1 columns</p>\n",
       "</div>"
      ],
      "text/plain": [
       "            coef\n",
       "0       1.039373\n",
       "1       0.995869\n",
       "2       0.840499\n",
       "3       0.771169\n",
       "4       0.760166\n",
       "...          ...\n",
       "14765   0.712147\n",
       "14766   0.874668\n",
       "14767   0.879285\n",
       "14768   1.009048\n",
       "14769  12.155977\n",
       "\n",
       "[14770 rows x 1 columns]"
      ]
     },
     "execution_count": 61,
     "metadata": {},
     "output_type": "execute_result"
    }
   ],
   "source": [
    "abs_coef"
   ]
  },
  {
   "cell_type": "code",
   "execution_count": 86,
   "metadata": {},
   "outputs": [],
   "source": [
    "feature_mag_means = np.asarray(abs(X_train).mean(axis=0)).squeeze()"
   ]
  },
  {
   "cell_type": "code",
   "execution_count": 93,
   "metadata": {},
   "outputs": [
    {
     "data": {
      "text/plain": [
       "(array([1.4767e+04, 1.0000e+00, 0.0000e+00, 0.0000e+00, 0.0000e+00,\n",
       "        0.0000e+00, 0.0000e+00, 0.0000e+00, 0.0000e+00, 2.0000e+00]),\n",
       " array([6.16194583e-06, 4.05212921e-01, 8.10419679e-01, 1.21562644e+00,\n",
       "        1.62083320e+00, 2.02603996e+00, 2.43124671e+00, 2.83645347e+00,\n",
       "        3.24166023e+00, 3.64686699e+00, 4.05207375e+00]),\n",
       " <a list of 10 Patch objects>)"
      ]
     },
     "execution_count": 93,
     "metadata": {},
     "output_type": "execute_result"
    },
    {
     "data": {
      "image/png": "[encoded data removed]",
      "text/plain": [
       "<Figure size 432x288 with 1 Axes>"
      ]
     },
     "metadata": {
      "needs_background": "light"
     },
     "output_type": "display_data"
    }
   ],
   "source": [
    "plt.hist(feature_mag_means, bins=10)"
   ]
  },
  {
   "cell_type": "code",
   "execution_count": 94,
   "metadata": {},
   "outputs": [
    {
     "data": {
      "text/plain": [
       "(array([1, 3, 4]),)"
      ]
     },
     "execution_count": 94,
     "metadata": {},
     "output_type": "execute_result"
    }
   ],
   "source": [
    "np.where(feature_mag_means >= 0.5)"
   ]
  },
  {
   "cell_type": "code",
   "execution_count": null,
   "metadata": {},
   "outputs": [],
   "source": []
  },
  {
   "cell_type": "code",
   "execution_count": 62,
   "metadata": {},
   "outputs": [
    {
     "data": {
      "text/html": [
       "<div>\n",
       "<style scoped>\n",
       "    .dataframe tbody tr th:only-of-type {\n",
       "        vertical-align: middle;\n",
       "    }\n",
       "\n",
       "    .dataframe tbody tr th {\n",
       "        vertical-align: top;\n",
       "    }\n",
       "\n",
       "    .dataframe thead th {\n",
       "        text-align: right;\n",
       "    }\n",
       "</style>\n",
       "<table border=\"1\" class=\"dataframe\">\n",
       "  <thead>\n",
       "    <tr style=\"text-align: right;\">\n",
       "      <th></th>\n",
       "      <th>coef</th>\n",
       "    </tr>\n",
       "  </thead>\n",
       "  <tbody>\n",
       "    <tr>\n",
       "      <th>0</th>\n",
       "      <td>1.039373</td>\n",
       "    </tr>\n",
       "    <tr>\n",
       "      <th>14768</th>\n",
       "      <td>1.009048</td>\n",
       "    </tr>\n",
       "    <tr>\n",
       "      <th>14769</th>\n",
       "      <td>12.155977</td>\n",
       "    </tr>\n",
       "  </tbody>\n",
       "</table>\n",
       "</div>"
      ],
      "text/plain": [
       "            coef\n",
       "0       1.039373\n",
       "14768   1.009048\n",
       "14769  12.155977"
      ]
     },
     "execution_count": 62,
     "metadata": {},
     "output_type": "execute_result"
    }
   ],
   "source": [
    "abs_coef[abs_coef['coef'] >= 1]"
   ]
  },
  {
   "cell_type": "markdown",
   "metadata": {},
   "source": [
    "---"
   ]
  },
  {
   "cell_type": "code",
   "execution_count": 99,
   "metadata": {},
   "outputs": [],
   "source": [
    "from sklearn.preprocessing import MaxAbsScaler\n",
    "\n",
    "scaler = MaxAbsScaler()\n",
    "scaler.fit(X_train)\n",
    "\n",
    "X_train_scaled = scaler.transform(X_train)\n",
    "X_val_scaled = scaler.transform(X_val)"
   ]
  },
  {
   "cell_type": "code",
   "execution_count": 100,
   "metadata": {},
   "outputs": [
    {
     "data": {
      "text/plain": [
       "MaxAbsScaler(copy=True)"
      ]
     },
     "execution_count": 100,
     "metadata": {},
     "output_type": "execute_result"
    }
   ],
   "source": []
  },
  {
   "cell_type": "code",
   "execution_count": 101,
   "metadata": {},
   "outputs": [],
   "source": []
  },
  {
   "cell_type": "code",
   "execution_count": 102,
   "metadata": {},
   "outputs": [
    {
     "data": {
      "text/plain": [
       "LogisticRegression(C=0.4, class_weight=None, dual=False, fit_intercept=True,\n",
       "                   intercept_scaling=1, l1_ratio=None, max_iter=1000,\n",
       "                   multi_class='auto', n_jobs=None, penalty='l2',\n",
       "                   random_state=None, solver='lbfgs', tol=0.0001, verbose=0,\n",
       "                   warm_start=False)"
      ]
     },
     "execution_count": 102,
     "metadata": {},
     "output_type": "execute_result"
    }
   ],
   "source": [
    "lr_scaled = LogisticRegression(C=0.4, max_iter=1000)\n",
    "lr_scaled.fit(X_train_scaled, y_train)"
   ]
  },
  {
   "cell_type": "code",
   "execution_count": 103,
   "metadata": {},
   "outputs": [
    {
     "name": "stdout",
     "output_type": "stream",
     "text": [
      "Accuracy:  0.717356200233866\n",
      "AUC:  0.900210030567199\n",
      "AP:  0.5604780813759794\n",
      "\n",
      "Confusion Matrix\n",
      "[[22166 10104]\n",
      " [   48  3600]]\n"
     ]
    }
   ],
   "source": [
    "evaluate(lr_scaled)"
   ]
  },
  {
   "cell_type": "code",
   "execution_count": 115,
   "metadata": {},
   "outputs": [],
   "source": [
    "coef_scaled = lr_scaled.coef_.squeeze()"
   ]
  },
  {
   "cell_type": "code",
   "execution_count": 116,
   "metadata": {},
   "outputs": [
    {
     "data": {
      "text/plain": [
       "array([ 1.25712588e+01,  5.91229362e-01,  1.21627871e+01, ...,\n",
       "        4.56044306e-02, -1.01023206e-02, -1.17534716e-02])"
      ]
     },
     "execution_count": 116,
     "metadata": {},
     "output_type": "execute_result"
    }
   ],
   "source": [
    "coef_scaled"
   ]
  },
  {
   "cell_type": "code",
   "execution_count": 123,
   "metadata": {},
   "outputs": [
    {
     "data": {
      "text/plain": [
       "array([-1.03937268, -0.99586937, -0.84049884, ...,  0.87928465,\n",
       "        1.00904796, 12.15597662])"
      ]
     },
     "execution_count": 123,
     "metadata": {},
     "output_type": "execute_result"
    }
   ],
   "source": [
    "coef"
   ]
  },
  {
   "cell_type": "code",
   "execution_count": 117,
   "metadata": {},
   "outputs": [
    {
     "data": {
      "text/plain": [
       "(array([    0,     1,     2,    13,    54,   109,   155,   353,   381,\n",
       "          396,   585,   867,   917,   927,   928,   985,  1012,  1031,\n",
       "         1320,  1331,  1375,  1516,  1545,  1613,  1620,  1640,  1752,\n",
       "         1937,  2728,  3025,  3081,  3228,  4360,  4601,  5165,  5369,\n",
       "         6634,  9070, 10812, 11021, 14585]),)"
      ]
     },
     "execution_count": 117,
     "metadata": {},
     "output_type": "execute_result"
    }
   ],
   "source": [
    "np.where(coef_scaled>=0.5)"
   ]
  },
  {
   "cell_type": "code",
   "execution_count": null,
   "metadata": {},
   "outputs": [],
   "source": []
  },
  {
   "cell_type": "markdown",
   "metadata": {},
   "source": [
    "---"
   ]
  },
  {
   "cell_type": "code",
   "execution_count": 78,
   "metadata": {},
   "outputs": [],
   "source": [
    "users_fake_cnts = Counter(train[train['label'] == 1]['user_id'])"
   ]
  },
  {
   "cell_type": "code",
   "execution_count": 122,
   "metadata": {},
   "outputs": [
    {
     "data": {
      "text/plain": [
       "21006"
      ]
     },
     "execution_count": 122,
     "metadata": {},
     "output_type": "execute_result"
    }
   ],
   "source": [
    "len(set(users_fake_cnts.keys()))"
   ]
  },
  {
   "cell_type": "code",
   "execution_count": 79,
   "metadata": {},
   "outputs": [],
   "source": [
    "users_genuine_cnts = Counter(train[train['label'] == 0]['user_id'])"
   ]
  },
  {
   "cell_type": "code",
   "execution_count": 120,
   "metadata": {},
   "outputs": [
    {
     "data": {
      "text/plain": [
       "105074"
      ]
     },
     "execution_count": 120,
     "metadata": {},
     "output_type": "execute_result"
    }
   ],
   "source": [
    "len(set(users_genuine_cnts))"
   ]
  },
  {
   "cell_type": "code",
   "execution_count": 92,
   "metadata": {},
   "outputs": [],
   "source": [
    "common = set(users_fake_cnts.keys()).intersection(set(users_genuine_cnts.keys()))"
   ]
  },
  {
   "cell_type": "code",
   "execution_count": 96,
   "metadata": {},
   "outputs": [
    {
     "data": {
      "text/plain": [
       "401"
      ]
     },
     "execution_count": 96,
     "metadata": {},
     "output_type": "execute_result"
    }
   ],
   "source": [
    "len(common)"
   ]
  },
  {
   "cell_type": "code",
   "execution_count": null,
   "metadata": {},
   "outputs": [],
   "source": []
  }
 ],
 "metadata": {
  "kernelspec": {
   "display_name": "Python 3",
   "language": "python",
   "name": "python3"
  },
  "language_info": {
   "codemirror_mode": {
    "name": "ipython",
    "version": 3
   },
   "file_extension": ".py",
   "mimetype": "text/x-python",
   "name": "python",
   "nbconvert_exporter": "python",
   "pygments_lexer": "ipython3",
   "version": "3.7.6"
  }
 },
 "nbformat": 4,
 "nbformat_minor": 2
}
