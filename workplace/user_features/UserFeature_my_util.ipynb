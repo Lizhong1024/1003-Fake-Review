{
 "cells": [
  {
   "cell_type": "code",
   "execution_count": 1,
   "metadata": {},
   "outputs": [],
   "source": [
    "import numpy as np\n",
    "import pandas as pd\n",
    "import pickle as pkl\n",
    "from itertools import chain\n",
    "from collections import Counter, defaultdict"
   ]
  },
  {
   "cell_type": "code",
   "execution_count": 2,
   "metadata": {},
   "outputs": [],
   "source": [
    "# Load data\n",
    "train = pd.read_csv('../data/train.csv', index_col='ex_id')\n",
    "val = pd.read_csv('../data/dev.csv', index_col='ex_id')\n",
    "\n",
    "# Load tokenized data\n",
    "train_data_tokens = pkl.load(open(\"../data/tokens/train_data_tokens.pkl\", \"rb\"))\n",
    "val_data_tokens = pkl.load(open(\"../data/tokens/val_data_tokens.pkl\", \"rb\"))\n",
    "all_train_tokens = list(chain.from_iterable(train_data_tokens))\n",
    "\n",
    "# Get labels\n",
    "y_train = train.label.values\n",
    "y_val = val.label.values\n",
    "\n",
    "# Vocab\n",
    "def build_vocab(all_tokens, threshold):\n",
    "    c = Counter(all_tokens)\n",
    "    vocab = [word for word, count in Counter(all_train_tokens).items() if count >= threshold]\n",
    "    id2token = vocab\n",
    "    token2id = dict(zip(vocab, range(len(vocab))))\n",
    "    return token2id, id2token\n",
    "\n",
    "token2id, id2token = build_vocab(all_train_tokens, 20)"
   ]
  },
  {
   "cell_type": "code",
   "execution_count": 3,
   "metadata": {},
   "outputs": [],
   "source": [
    "# TFIDF Vectorizer\n",
    "from sklearn.feature_extraction.text import TfidfVectorizer\n",
    "\n",
    "def dummy(doc):\n",
    "    return doc\n",
    "\n",
    "tfidf_vec = TfidfVectorizer(lowercase=False, preprocessor=dummy, tokenizer=dummy, vocabulary=token2id)  \n",
    "\n",
    "X_train_tfidf = tfidf_vec.fit_transform(train_data_tokens)\n",
    "X_val_tfidf = tfidf_vec.transform(val_data_tokens)"
   ]
  },
  {
   "cell_type": "markdown",
   "metadata": {},
   "source": [
    "### Train Latent Factor Model"
   ]
  },
  {
   "cell_type": "markdown",
   "metadata": {},
   "source": [
    "#### MyAlgo"
   ]
  },
  {
   "cell_type": "code",
   "execution_count": 4,
   "metadata": {},
   "outputs": [],
   "source": [
    "from surprise import AlgoBase\n",
    "from surprise import SVD\n",
    "from surprise import PredictionImpossible"
   ]
  },
  {
   "cell_type": "code",
   "execution_count": 5,
   "metadata": {},
   "outputs": [],
   "source": [
    "class MyAlgo(SVD):\n",
    "\n",
    "    def __init__(self, n_factors=25, n_epochs=20, biased=False, \n",
    "                 lr_all=.005, reg_all=.1, random_state=None, verbose=False):\n",
    "\n",
    "        SVD.__init__(self, n_factors=n_factors, n_epochs=n_epochs, \n",
    "                     biased=biased, lr_all=lr_all, reg_all=reg_all, \n",
    "                     random_state=random_state, verbose=verbose)\n",
    "\n",
    "    def fit(self, trainset):\n",
    "\n",
    "        SVD.fit(self, trainset)\n",
    "\n",
    "        return self\n",
    "\n",
    "    def estimate(self, u, i):\n",
    "\n",
    "        known_user = self.trainset.knows_user(u)\n",
    "        known_item = self.trainset.knows_item(i)\n",
    "\n",
    "        if known_user and known_item:\n",
    "\n",
    "            if self.biased:\n",
    "                est = self.trainset.global_mean\n",
    "                if known_user:\n",
    "                    est += self.bu[u]\n",
    "\n",
    "                if known_item:\n",
    "                    est += self.bi[i]\n",
    "\n",
    "                if known_user and known_item:\n",
    "                    est += np.dot(self.qi[i], self.pu[u])\n",
    "\n",
    "            else:\n",
    "                est = np.dot(self.qi[i], self.pu[u])    \n",
    "\n",
    "        else:\n",
    "            est = 0\n",
    "            raise PredictionImpossible('User and item are unknown.')\n",
    "\n",
    "        return est\n",
    "    \n",
    "    def test(self, testset, clip=False, verbose=False):\n",
    "        predictions = [self.predict(uid,\n",
    "                                    iid,\n",
    "                                    r_ui_trans,\n",
    "                                    clip=clip,\n",
    "                                    verbose=verbose)\n",
    "                       for (uid, iid, r_ui_trans) in testset]\n",
    "        return predictions"
   ]
  },
  {
   "cell_type": "markdown",
   "metadata": {},
   "source": [
    "#### Construct ALS Dataset"
   ]
  },
  {
   "cell_type": "code",
   "execution_count": 6,
   "metadata": {},
   "outputs": [],
   "source": [
    "from surprise import Dataset, Reader, accuracy\n",
    "from surprise.model_selection import train_test_split\n",
    "\n",
    "# Get train data\n",
    "# SELECT user_id, prod_id, rating FROM train WHERE label = 0\n",
    "train_als = train[(train['label'] == 0)][['user_id', 'prod_id', 'rating']]\n",
    "\n",
    "# The columns must correspond to user id, item id and ratings (in that order)\n",
    "reader = Reader(rating_scale=(1, 5))\n",
    "data = Dataset.load_from_df(train_als[['user_id', 'prod_id', 'rating']], reader)"
   ]
  },
  {
   "cell_type": "markdown",
   "metadata": {},
   "source": [
    "#### Train model"
   ]
  },
  {
   "cell_type": "code",
   "execution_count": 7,
   "metadata": {},
   "outputs": [
    {
     "data": {
      "text/plain": [
       "<__main__.MyAlgo at 0x1458178d0>"
      ]
     },
     "execution_count": 7,
     "metadata": {},
     "output_type": "execute_result"
    }
   ],
   "source": [
    "rank = 25\n",
    "reg = 0.1\n",
    "\n",
    "algo = MyAlgo(n_factors=rank, reg_all=reg, biased=True,\n",
    "              lr_all=0.005, n_epochs=30, verbose=False, random_state=None)\n",
    "\n",
    "algo_trainset = data.build_full_trainset()\n",
    "algo.fit(algo_trainset)\n",
    "\n",
    "# user_factors = algo.pu\n",
    "# prod_factors = algo.qi"
   ]
  },
  {
   "cell_type": "markdown",
   "metadata": {},
   "source": [
    "#### Generate rating features & Combine rating features and review features"
   ]
  },
  {
   "cell_type": "code",
   "execution_count": 8,
   "metadata": {},
   "outputs": [],
   "source": [
    "from scipy.sparse import csr_matrix, coo_matrix, hstack\n",
    "\n",
    "def combine_features(user_features, rating_features, review_features):\n",
    "    return hstack( [user_features, csr_matrix(rating_features), review_features], format='csr' )\n",
    "\n",
    "def get_rating_features(val, algo):\n",
    "    testset = list(zip(val['user_id'].values, val['prod_id'].values, val['rating'].values))\n",
    "    predictions = algo.test(testset)\n",
    "    pred_rating = []\n",
    "    is_missing = []\n",
    "    actual_rating = []\n",
    "    diff = []\n",
    "    \n",
    "    for pred in predictions:\n",
    "        pred_rating.append(pred.est)\n",
    "        is_missing.append( int(pred.details['was_impossible']) )\n",
    "        actual_rating.append(pred.r_ui)\n",
    "        diff.append(pred.r_ui - pred.est)\n",
    "    \n",
    "    rating_features = list(zip(pred_rating, is_missing, actual_rating, diff))\n",
    "\n",
    "    return rating_features"
   ]
  },
  {
   "cell_type": "code",
   "execution_count": 9,
   "metadata": {},
   "outputs": [
    {
     "data": {
      "text/plain": [
       "<my_utils.UserFeature at 0x145829950>"
      ]
     },
     "execution_count": 9,
     "metadata": {},
     "output_type": "execute_result"
    }
   ],
   "source": [
    "from my_utils import *\n",
    "\n",
    "u = UserFeature()\n",
    "u.fit(train)"
   ]
  },
  {
   "cell_type": "code",
   "execution_count": 10,
   "metadata": {},
   "outputs": [],
   "source": [
    "train_users_features = u.get_user_features(train)\n",
    "val_users_features = u.get_user_features(val)\n",
    "\n",
    "train_rating_features = get_rating_features(train, algo)\n",
    "val_rating_features = get_rating_features(val, algo)"
   ]
  },
  {
   "cell_type": "code",
   "execution_count": 11,
   "metadata": {},
   "outputs": [],
   "source": [
    "X_train = combine_features([train_users_features, train_rating_features, X_train_tfidf])\n",
    "X_val = combine_features([val_users_features, val_rating_features, X_val_tfidf])"
   ]
  },
  {
   "cell_type": "markdown",
   "metadata": {},
   "source": [
    "### Logistic Regression"
   ]
  },
  {
   "cell_type": "code",
   "execution_count": 12,
   "metadata": {},
   "outputs": [
    {
     "data": {
      "text/plain": [
       "LogisticRegression(C=0.4, class_weight=None, dual=False, fit_intercept=True,\n",
       "                   intercept_scaling=1, l1_ratio=None, max_iter=1000,\n",
       "                   multi_class='auto', n_jobs=None, penalty='l2',\n",
       "                   random_state=None, solver='lbfgs', tol=0.0001, verbose=0,\n",
       "                   warm_start=False)"
      ]
     },
     "execution_count": 12,
     "metadata": {},
     "output_type": "execute_result"
    }
   ],
   "source": [
    "from sklearn.linear_model import LogisticRegression\n",
    "lr = LogisticRegression(C=0.4, max_iter=1000)\n",
    "lr.fit(X_train, y_train)"
   ]
  },
  {
   "cell_type": "markdown",
   "metadata": {},
   "source": [
    "#### Evaluation"
   ]
  },
  {
   "cell_type": "code",
   "execution_count": 13,
   "metadata": {},
   "outputs": [],
   "source": [
    "from sklearn.metrics import roc_auc_score, classification_report\n",
    "from sklearn.metrics import roc_curve, auc, confusion_matrix\n",
    "from sklearn.metrics import average_precision_score\n",
    "\n",
    "def evaluate(model, X=X_val, y=y_val):\n",
    "    y_scores = model.predict_proba(X)[:, 1]\n",
    "    print('Accuracy: ', model.score(X, y))\n",
    "    print('AUC: ', roc_auc_score(y, y_scores))\n",
    "    print('AP: ', average_precision_score(y, y_scores))\n",
    "    print('\\nConfusion Matrix')\n",
    "    print(confusion_matrix(y, model.predict(X)))"
   ]
  },
  {
   "cell_type": "code",
   "execution_count": 14,
   "metadata": {},
   "outputs": [
    {
     "name": "stdout",
     "output_type": "stream",
     "text": [
      "Accuracy:  0.7222005679603541\n",
      "AUC:  0.8997290159713275\n",
      "AP:  0.5581323078621346\n",
      "\n",
      "Confusion Matrix\n",
      "[[22362  9908]\n",
      " [   70  3578]]\n"
     ]
    }
   ],
   "source": [
    "evaluate(lr)"
   ]
  },
  {
   "cell_type": "markdown",
   "metadata": {},
   "source": [
    "### Rescale"
   ]
  },
  {
   "cell_type": "code",
   "execution_count": 15,
   "metadata": {},
   "outputs": [],
   "source": [
    "from sklearn.preprocessing import MaxAbsScaler"
   ]
  },
  {
   "cell_type": "code",
   "execution_count": 16,
   "metadata": {},
   "outputs": [
    {
     "data": {
      "text/plain": [
       "MaxAbsScaler(copy=True)"
      ]
     },
     "execution_count": 16,
     "metadata": {},
     "output_type": "execute_result"
    }
   ],
   "source": [
    "scaler = MaxAbsScaler()\n",
    "scaler.fit(X_train)"
   ]
  },
  {
   "cell_type": "code",
   "execution_count": 17,
   "metadata": {},
   "outputs": [],
   "source": [
    "X_train_scaled = scaler.transform(X_train)\n",
    "X_val_scaled = scaler.transform(X_val)"
   ]
  },
  {
   "cell_type": "code",
   "execution_count": 18,
   "metadata": {},
   "outputs": [
    {
     "data": {
      "text/plain": [
       "LogisticRegression(C=0.4, class_weight=None, dual=False, fit_intercept=True,\n",
       "                   intercept_scaling=1, l1_ratio=None, max_iter=1000,\n",
       "                   multi_class='auto', n_jobs=None, penalty='l2',\n",
       "                   random_state=None, solver='lbfgs', tol=0.0001, verbose=0,\n",
       "                   warm_start=False)"
      ]
     },
     "execution_count": 18,
     "metadata": {},
     "output_type": "execute_result"
    }
   ],
   "source": [
    "from sklearn.linear_model import LogisticRegression\n",
    "\n",
    "lr_scaled = LogisticRegression(C=0.4, max_iter=1000)\n",
    "lr_scaled.fit(X_train_scaled, y_train)"
   ]
  },
  {
   "cell_type": "code",
   "execution_count": 19,
   "metadata": {},
   "outputs": [
    {
     "name": "stdout",
     "output_type": "stream",
     "text": [
      "Accuracy:  0.717356200233866\n",
      "AUC:  0.9003108664761144\n",
      "AP:  0.5610248982183885\n",
      "\n",
      "Confusion Matrix\n",
      "[[22166 10104]\n",
      " [   48  3600]]\n"
     ]
    }
   ],
   "source": [
    "evaluate(lr_scaled)"
   ]
  },
  {
   "cell_type": "code",
   "execution_count": null,
   "metadata": {},
   "outputs": [],
   "source": []
  }
 ],
 "metadata": {
  "kernelspec": {
   "display_name": "Python 3",
   "language": "python",
   "name": "python3"
  },
  "language_info": {
   "codemirror_mode": {
    "name": "ipython",
    "version": 3
   },
   "file_extension": ".py",
   "mimetype": "text/x-python",
   "name": "python",
   "nbconvert_exporter": "python",
   "pygments_lexer": "ipython3",
   "version": "3.7.6"
  }
 },
 "nbformat": 4,
 "nbformat_minor": 2
}
