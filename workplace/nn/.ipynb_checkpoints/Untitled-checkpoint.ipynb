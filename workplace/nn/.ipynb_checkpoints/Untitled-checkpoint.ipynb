{
 "cells": [
  {
   "cell_type": "code",
   "execution_count": 1,
   "metadata": {},
   "outputs": [],
   "source": [
    "import pandas as pd\n",
    "import numpy as np\n",
    "from collections import Counter\n",
    "from tqdm import tqdm\n",
    "import pickle as pkl\n",
    "from collections import Counter\n",
    "import random\n",
    "import matplotlib.pyplot as plt\n",
    "import spacy"
   ]
  },
  {
   "cell_type": "code",
   "execution_count": 2,
   "metadata": {},
   "outputs": [],
   "source": [
    "def downsample_n(data, n):\n",
    "    downsampled_data = data.sample(n = n, replace = False, random_state = 1)\n",
    "    return downsampled_data"
   ]
  },
  {
   "cell_type": "code",
   "execution_count": 3,
   "metadata": {},
   "outputs": [],
   "source": [
    "def tokenize(data):\n",
    "    nlp = spacy.load('en_core_web_sm')\n",
    "    data_tokenized = []\n",
    "    all_tokens = []\n",
    "    \n",
    "    def tokenize_(review):\n",
    "        doc = nlp(review)\n",
    "        tokens = []\n",
    "        for tk in doc:\n",
    "            if tk.is_punct or tk.is_stop or tk.is_space:\n",
    "                continue # discard if is punctuation / stopword / whitespace\n",
    "            elif any([char.isdigit() for char in tk.text]):\n",
    "                continue # discard if is a number\n",
    "            else:\n",
    "                tokens.append(tk.lemma_.lower())\n",
    "        return tokens\n",
    "    \n",
    "    for review in tqdm(data):\n",
    "        tokens = tokenize_(review)\n",
    "        data_tokenized.append(tokens)\n",
    "        all_tokens += tokens\n",
    "        \n",
    "    return data_tokenized, all_tokens"
   ]
  },
  {
   "cell_type": "code",
   "execution_count": 4,
   "metadata": {},
   "outputs": [],
   "source": [
    "train = pd.read_csv('train.csv', usecols=['label', 'review'])\n",
    "fake_train, genuine_train = train[train['label'] == 1], train[train['label'] == 0]\n",
    "genuine_train_downsampled = downsample_n(genuine_train, fake_train.shape[0])\n",
    "train = pd.concat([fake_train, genuine_train_downsampled], axis = 0).sample(frac = 1.)\n",
    "\n",
    "val = pd.read_csv('dev.csv', usecols = ['label', 'review'])\n",
    "test = pd.read_csv('test_no_label.csv', usecols = ['review'])\n",
    "\n",
    "train_data = train.review.values\n",
    "val_data = val.review.values\n",
    "test_data = test.review.values\n",
    "\n",
    "train_targets = train.label.values\n",
    "val_targets = val.label.values"
   ]
  },
  {
   "cell_type": "markdown",
   "metadata": {},
   "source": [
    "### Tokenize dataset"
   ]
  },
  {
   "cell_type": "code",
   "execution_count": null,
   "metadata": {},
   "outputs": [],
   "source": [
    "#train set tokens\n",
    "print (\"Tokenizing train data\")\n",
    "train_data_tokens, all_train_tokens = tokenize(train_data)\n",
    "pkl.dump(train_data_tokens, open(\"train_data_tokens.p\", \"wb\"))\n",
    "pkl.dump(all_train_tokens, open(\"all_train_tokens.p\", \"wb\"))"
   ]
  },
  {
   "cell_type": "code",
   "execution_count": null,
   "metadata": {},
   "outputs": [],
   "source": [
    "#val set tokens\n",
    "print (\"Tokenizing val data\")\n",
    "val_data_tokens, _ = tokenize(val_data)\n",
    "pkl.dump(val_data_tokens, open(\"val_data_tokens.p\", \"wb\"))"
   ]
  },
  {
   "cell_type": "code",
   "execution_count": null,
   "metadata": {},
   "outputs": [],
   "source": [
    "#test set tokens\n",
    "print (\"Tokenizing test data\")\n",
    "test_data_tokens, _ = tokenize(test_data)\n",
    "pkl.dump(test_data_tokens, open(\"test_data_tokens.p\", \"wb\"))"
   ]
  },
  {
   "cell_type": "code",
   "execution_count": null,
   "metadata": {},
   "outputs": [],
   "source": []
  },
  {
   "cell_type": "code",
   "execution_count": null,
   "metadata": {},
   "outputs": [],
   "source": []
  },
  {
   "cell_type": "code",
   "execution_count": null,
   "metadata": {},
   "outputs": [],
   "source": [
    "fake_genuine_cnts_train = Counter(train_targets)\n",
    "print(f'fake : genuine = {fake_genuine_cnts_train[1] / fake_genuine_cnts_train[0]}')"
   ]
  },
  {
   "cell_type": "code",
   "execution_count": null,
   "metadata": {},
   "outputs": [],
   "source": [
    "1 - fake_genuine_cnts_train[1] / fake_genuine_cnts_train[0]"
   ]
  },
  {
   "cell_type": "code",
   "execution_count": null,
   "metadata": {},
   "outputs": [],
   "source": [
    "fake_genuine_cnts_val = Counter(val_targets)\n",
    "print(f'fake : genuine = {fake_genuine_cnts_val[1] / fake_genuine_cnts_val[0]}')"
   ]
  },
  {
   "cell_type": "code",
   "execution_count": null,
   "metadata": {},
   "outputs": [],
   "source": [
    "1 - fake_genuine_cnts_val[1] / fake_genuine_cnts_val[0]"
   ]
  },
  {
   "cell_type": "code",
   "execution_count": null,
   "metadata": {},
   "outputs": [],
   "source": []
  },
  {
   "cell_type": "code",
   "execution_count": null,
   "metadata": {},
   "outputs": [],
   "source": []
  },
  {
   "cell_type": "code",
   "execution_count": null,
   "metadata": {},
   "outputs": [],
   "source": []
  },
  {
   "cell_type": "code",
   "execution_count": null,
   "metadata": {},
   "outputs": [],
   "source": []
  },
  {
   "cell_type": "markdown",
   "metadata": {},
   "source": [
    "### Tokenize Dataset"
   ]
  },
  {
   "cell_type": "code",
   "execution_count": 5,
   "metadata": {},
   "outputs": [],
   "source": [
    "# Then, load preprocessed train, val and test datasets\n",
    "train_data_tokens = pkl.load(open(\"train_data_tokens.p\", \"rb\"))\n",
    "all_train_tokens = pkl.load(open(\"all_train_tokens.p\", \"rb\"))\n",
    "val_data_tokens = pkl.load(open(\"val_data_tokens.p\", \"rb\"))\n",
    "test_data_tokens = pkl.load(open(\"test_data_tokens.p\", \"rb\"))"
   ]
  },
  {
   "cell_type": "code",
   "execution_count": 6,
   "metadata": {},
   "outputs": [
    {
     "name": "stdout",
     "output_type": "stream",
     "text": [
      "Train dataset size is 51638\n",
      "Val dataset size is 35918\n",
      "Test dataset size is 72165\n",
      "Total number of tokens in train dataset is 2306400\n",
      "Total number of *unique* tokens in train dataset is 48408\n"
     ]
    }
   ],
   "source": [
    "# double checking\n",
    "print (\"Train dataset size is {}\".format(len(train_data_tokens)))\n",
    "print (\"Val dataset size is {}\".format(len(val_data_tokens)))\n",
    "print (\"Test dataset size is {}\".format(len(test_data_tokens)))\n",
    "\n",
    "print (\"Total number of tokens in train dataset is {}\".format(len(all_train_tokens)))\n",
    "print (\"Total number of *unique* tokens in train dataset is {}\".format(len(set(all_train_tokens))))"
   ]
  },
  {
   "cell_type": "code",
   "execution_count": 7,
   "metadata": {},
   "outputs": [],
   "source": [
    "token_cnts = Counter(all_train_tokens)"
   ]
  },
  {
   "cell_type": "code",
   "execution_count": 8,
   "metadata": {},
   "outputs": [],
   "source": [
    "token_cnts_10 = [(w, c) for (w, c) in token_cnts.items() if c >= 10]"
   ]
  },
  {
   "cell_type": "code",
   "execution_count": 9,
   "metadata": {},
   "outputs": [
    {
     "data": {
      "text/plain": [
       "9029"
      ]
     },
     "execution_count": 9,
     "metadata": {},
     "output_type": "execute_result"
    }
   ],
   "source": [
    "len(token_cnts_10)"
   ]
  },
  {
   "cell_type": "markdown",
   "metadata": {},
   "source": [
    "### Vocabulary\n",
    "\n",
    "Now, we are going to create the vocabulary of most common 10,000 tokens in the training set. Remember that we will add special tokens `<unk>` and `<pad>` to the vocabulary."
   ]
  },
  {
   "cell_type": "code",
   "execution_count": 10,
   "metadata": {},
   "outputs": [],
   "source": [
    "from collections import Counter\n",
    "\n",
    "max_vocab_size = 9029 # only keep tokens that appear more than 10 times in the training set\n",
    "# save index 0 for unk and 1 for pad, standard\n",
    "PAD_IDX = 0\n",
    "UNK_IDX = 1\n",
    "\n",
    "def build_vocab(all_tokens):\n",
    "    # Returns:\n",
    "    # id2token: list of tokens, where id2token[i] returns token that corresponds to token i\n",
    "    # token2id: dictionary where keys represent tokens and corresponding values represent indices\n",
    "    token_counter = Counter(all_tokens)\n",
    "    vocab, count = zip(*token_counter.most_common(max_vocab_size))\n",
    "    id2token = list(vocab)\n",
    "    token2id = dict(zip(vocab, range(2,2+len(vocab)))) \n",
    "    id2token = ['<pad>', '<unk>'] + id2token\n",
    "    token2id['<pad>'] = PAD_IDX \n",
    "    token2id['<unk>'] = UNK_IDX\n",
    "    return token2id, id2token\n",
    "\n",
    "token2id, id2token = build_vocab(all_train_tokens)"
   ]
  },
  {
   "cell_type": "code",
   "execution_count": 11,
   "metadata": {},
   "outputs": [
    {
     "name": "stdout",
     "output_type": "stream",
     "text": [
      "Token id 7515 ; token pigeon\n",
      "Token pigeon; token id 7515\n"
     ]
    }
   ],
   "source": [
    "# Lets check the dictionary by loading random token from it\n",
    "\n",
    "random_token_id = random.randint(0, len(id2token)-1)\n",
    "random_token = id2token[random_token_id]\n",
    "\n",
    "print (\"Token id {} ; token {}\".format(random_token_id, id2token[random_token_id]))\n",
    "print (\"Token {}; token id {}\".format(random_token, token2id[random_token]))"
   ]
  },
  {
   "cell_type": "code",
   "execution_count": 12,
   "metadata": {},
   "outputs": [
    {
     "name": "stdout",
     "output_type": "stream",
     "text": [
      "Train dataset size is 51638\n",
      "Val dataset size is 35918\n",
      "Test dataset size is 72165\n"
     ]
    }
   ],
   "source": [
    "# convert token to id in the dataset\n",
    "def token2index_dataset(tokens_data):\n",
    "    indices_data = []\n",
    "    for tokens in tokens_data:\n",
    "        index_list = [token2id[token] if token in token2id else UNK_IDX for token in tokens]\n",
    "        indices_data.append(index_list)\n",
    "    return indices_data\n",
    "\n",
    "train_data_indices = token2index_dataset(train_data_tokens)\n",
    "val_data_indices = token2index_dataset(val_data_tokens)\n",
    "test_data_indices = token2index_dataset(test_data_tokens)\n",
    "\n",
    "# double checking\n",
    "print (\"Train dataset size is {}\".format(len(train_data_indices)))\n",
    "print (\"Val dataset size is {}\".format(len(val_data_indices)))\n",
    "print (\"Test dataset size is {}\".format(len(test_data_indices)))"
   ]
  },
  {
   "cell_type": "code",
   "execution_count": null,
   "metadata": {},
   "outputs": [],
   "source": []
  },
  {
   "cell_type": "code",
   "execution_count": null,
   "metadata": {},
   "outputs": [],
   "source": []
  },
  {
   "cell_type": "code",
   "execution_count": null,
   "metadata": {},
   "outputs": [],
   "source": []
  },
  {
   "cell_type": "code",
   "execution_count": null,
   "metadata": {},
   "outputs": [],
   "source": []
  },
  {
   "cell_type": "markdown",
   "metadata": {},
   "source": [
    "### Pytorch DataLoader"
   ]
  },
  {
   "cell_type": "code",
   "execution_count": 56,
   "metadata": {},
   "outputs": [],
   "source": [
    "train_data_lens = [len(data) for data in train_data_indices]\n",
    "val_data_lens = [len(data) for data in val_data_indices]\n",
    "test_data_lens = [len(data) for data in test_data_indices]"
   ]
  },
  {
   "cell_type": "code",
   "execution_count": 57,
   "metadata": {},
   "outputs": [
    {
     "data": {
      "text/plain": [
       "32.0"
      ]
     },
     "execution_count": 57,
     "metadata": {},
     "output_type": "execute_result"
    }
   ],
   "source": [
    "np.median(train_data_lens)"
   ]
  },
  {
   "cell_type": "code",
   "execution_count": 58,
   "metadata": {},
   "outputs": [
    {
     "data": {
      "text/plain": [
       "38.0"
      ]
     },
     "execution_count": 58,
     "metadata": {},
     "output_type": "execute_result"
    }
   ],
   "source": [
    "np.median(val_data_lens)"
   ]
  },
  {
   "cell_type": "code",
   "execution_count": 59,
   "metadata": {},
   "outputs": [
    {
     "data": {
      "text/plain": [
       "38.0"
      ]
     },
     "execution_count": 59,
     "metadata": {},
     "output_type": "execute_result"
    }
   ],
   "source": [
    "np.median(test_data_lens)"
   ]
  },
  {
   "cell_type": "code",
   "execution_count": 106,
   "metadata": {},
   "outputs": [
    {
     "data": {
      "text/plain": [
       "[]"
      ]
     },
     "execution_count": 106,
     "metadata": {},
     "output_type": "execute_result"
    },
    {
     "data": {
      "image/png": "[encoded data removed]",
      "text/plain": [
       "<Figure size 720x360 with 1 Axes>"
      ]
     },
     "metadata": {
      "needs_background": "light"
     },
     "output_type": "display_data"
    }
   ],
   "source": [
    "plt.figure(figsize =[10, 5])\n",
    "\n",
    "plt.hist(train_data_lens, bins=np.arange(0, 250, 1), alpha = 0.5, label = 'Train', histtype = 'step', color = 'teal')\n",
    "#plt.vlines(np.median(train_data_lens), ymin = 0, ymax = 710, color = 'teal', linestyle = ':', alpha = 0.5)\n",
    "\n",
    "plt.hist(val_data_lens, bins=np.arange(0, 250, 1), alpha = 0.5, label = 'Val', histtype = 'step', color = 'red')\n",
    "#plt.vlines(np.median(val_data_lens), ymin = 0, ymax = 475, color = 'red', linestyle = ':', alpha = 0.5)\n",
    "\n",
    "plt.hist(test_data_lens, bins=np.arange(0, 250, 1), alpha = 0.5, label = 'Test', histtype = 'step', color = 'blueviolet')\n",
    "#plt.vlines(np.median(test_data_lens), ymin = 0, ymax = 880, color = 'blueviolet', linestyle = ':', alpha = 0.5)\n",
    "\n",
    "plt.title('Review length after tokenized')\n",
    "plt.ylabel('cnts')\n",
    "plt.xlabel('length')\n",
    "plt.legend()\n",
    "plt.grid(linestyle = ':')\n",
    "plt.plot()"
   ]
  },
  {
   "cell_type": "code",
   "execution_count": null,
   "metadata": {},
   "outputs": [],
   "source": []
  },
  {
   "cell_type": "code",
   "execution_count": null,
   "metadata": {},
   "outputs": [],
   "source": []
  },
  {
   "cell_type": "code",
   "execution_count": 120,
   "metadata": {},
   "outputs": [],
   "source": [
    "MAX_SENTENCE_LENGTH = 100"
   ]
  },
  {
   "cell_type": "code",
   "execution_count": 121,
   "metadata": {},
   "outputs": [],
   "source": [
    "import torch\n",
    "from torch.utils.data import Dataset\n",
    "\n",
    "class FakeReviewDataset(Dataset):\n",
    "    \"\"\"\n",
    "    Class that represents a train/validation dataset that's readable for PyTorch\n",
    "    Note that this class inherits torch.utils.data.Dataset\n",
    "    \"\"\"\n",
    "    \n",
    "    def __init__(self, data_list, target_list):\n",
    "        \"\"\"\n",
    "        @param data_list: list of fake_review tokens \n",
    "        @param target_list: list of fake_review targets \n",
    "\n",
    "        \"\"\"\n",
    "        self.data_list = data_list\n",
    "        self.target_list = target_list\n",
    "        assert (len(self.data_list) == len(self.target_list))\n",
    "\n",
    "    def __len__(self):\n",
    "        return len(self.data_list)\n",
    "        \n",
    "    def __getitem__(self, key):\n",
    "        \"\"\"\n",
    "        Triggered when you call dataset[i]\n",
    "        \"\"\"\n",
    "        \n",
    "        token_idx = self.data_list[key][:MAX_SENTENCE_LENGTH]\n",
    "        label = self.target_list[key]\n",
    "        return [token_idx, len(token_idx), label]"
   ]
  },
  {
   "cell_type": "code",
   "execution_count": 122,
   "metadata": {},
   "outputs": [],
   "source": [
    "train_dataset = FakeReviewDataset(train_data_indices, train_targets)\n",
    "val_dataset = FakeReviewDataset(val_data_indices, val_targets)"
   ]
  },
  {
   "cell_type": "code",
   "execution_count": 123,
   "metadata": {},
   "outputs": [
    {
     "name": "stdout",
     "output_type": "stream",
     "text": [
      "5\n",
      "46\n",
      "15\n",
      "30\n",
      "58\n"
     ]
    }
   ],
   "source": [
    "### Let's look at the number of tokens in the first few datapoints\n",
    "for i in range(5):\n",
    "    print(train_dataset[i][1])"
   ]
  },
  {
   "cell_type": "markdown",
   "metadata": {},
   "source": [
    "We need a **collate function** so that when we have it in batches, all the sentences have the same length. We decide to keep a `MAX_SENTENCE_LENGTH` and if the sentence has fewer tokens, append the rest with zero and if the sentence has more tokens, chop it all at `MAX_SENTENCE_LENGTH`"
   ]
  },
  {
   "cell_type": "code",
   "execution_count": 124,
   "metadata": {},
   "outputs": [],
   "source": [
    "def fakereview_collate_func(batch):\n",
    "    \"\"\"\n",
    "    Customized function for DataLoader that dynamically pads the batch so that all \n",
    "    data have the same length\n",
    "    \"\"\"\n",
    "    data_list = []\n",
    "    label_list = []\n",
    "    length_list = []\n",
    "    #print(\"collate batch: \", batch[0][0])\n",
    "    #batch[0][0] = batch[0][0][:MAX_SENTENCE_LENGTH]\n",
    "    for datum in batch:\n",
    "        label_list.append(datum[2])\n",
    "        length_list.append(datum[1])\n",
    "    # padding\n",
    "    for datum in batch:\n",
    "        padded_vec = np.pad(np.array(datum[0]), \n",
    "                                pad_width=((0,MAX_SENTENCE_LENGTH-datum[1])), \n",
    "                                mode=\"constant\", constant_values=0)\n",
    "        data_list.append(padded_vec)\n",
    "    return [torch.from_numpy(np.array(data_list)), torch.LongTensor(length_list), torch.LongTensor(label_list)]"
   ]
  },
  {
   "cell_type": "code",
   "execution_count": 192,
   "metadata": {},
   "outputs": [],
   "source": [
    "BATCH_SIZE = 32\n",
    "\n",
    "train_loader = torch.utils.data.DataLoader(dataset=train_dataset, \n",
    "                                           batch_size=BATCH_SIZE,\n",
    "                                           collate_fn=fakereview_collate_func,\n",
    "                                           shuffle=True)"
   ]
  },
  {
   "cell_type": "code",
   "execution_count": 193,
   "metadata": {},
   "outputs": [],
   "source": [
    "val_loader = torch.utils.data.DataLoader(dataset=val_dataset, \n",
    "                                           batch_size=BATCH_SIZE,\n",
    "                                           collate_fn=fakereview_collate_func,\n",
    "                                           shuffle=True)"
   ]
  },
  {
   "cell_type": "markdown",
   "metadata": {},
   "source": [
    "### Bag-of-Words model in PyTorch"
   ]
  },
  {
   "cell_type": "code",
   "execution_count": 198,
   "metadata": {},
   "outputs": [],
   "source": [
    "# First import torch related libraries\n",
    "import torch\n",
    "import torch.nn as nn\n",
    "import torch.nn.functional as F\n",
    "\n",
    "class BagOfWords(nn.Module):\n",
    "    \"\"\"\n",
    "    BagOfWords classification model\n",
    "    \"\"\"\n",
    "    def __init__(self, vocab_size, emb_dim):\n",
    "        \"\"\"\n",
    "        @param vocab_size: size of the vocabulary. \n",
    "        @param emb_dim: size of the word embedding\n",
    "        \"\"\"\n",
    "        super(BagOfWords, self).__init__()\n",
    "        # pay attention to padding_idx \n",
    "        self.embed = nn.Embedding(vocab_size, emb_dim, padding_idx=0)\n",
    "        self.linear = nn.Linear(emb_dim, 2)\n",
    "    \n",
    "    def forward(self, data, length):\n",
    "        \"\"\"\n",
    "        \n",
    "        @param data: matrix of size (batch_size, max_sentence_length). Each row in data represents a \n",
    "            review that is represented using n-gram index. Note that they are padded to have same length.\n",
    "        @param length: an int tensor of size (batch_size), which represents the non-trivial (excludes padding)\n",
    "            length of each sentences in the data.\n",
    "        \"\"\"\n",
    "        \n",
    "        print(data.shape)\n",
    "        out = self.embed(data)\n",
    "        \n",
    "        print(out.shape)\n",
    "        \n",
    "        out = torch.sum(out, dim=1)\n",
    "        out /= length.view(length.size()[0],1).expand_as(out).float()\n",
    "     \n",
    "        # return logits\n",
    "        out = self.linear(out.float())\n",
    "        return out"
   ]
  },
  {
   "cell_type": "code",
   "execution_count": 199,
   "metadata": {},
   "outputs": [],
   "source": [
    "emb_dim = 100\n",
    "model = BagOfWords(len(id2token), emb_dim)"
   ]
  },
  {
   "cell_type": "code",
   "execution_count": 200,
   "metadata": {},
   "outputs": [
    {
     "data": {
      "text/plain": [
       "torch.Size([9031, 100])"
      ]
     },
     "execution_count": 200,
     "metadata": {},
     "output_type": "execute_result"
    }
   ],
   "source": [
    "model.embed.weight.shape"
   ]
  },
  {
   "cell_type": "code",
   "execution_count": 201,
   "metadata": {},
   "outputs": [
    {
     "name": "stdout",
     "output_type": "stream",
     "text": [
      "torch.Size([9031, 100])\n",
      "torch.Size([2, 100])\n",
      "torch.Size([2])\n"
     ]
    }
   ],
   "source": [
    "for x in model.parameters():\n",
    "    print(x.shape)"
   ]
  },
  {
   "cell_type": "markdown",
   "metadata": {},
   "source": [
    "### Loss Function and Optimizer"
   ]
  },
  {
   "cell_type": "code",
   "execution_count": 202,
   "metadata": {},
   "outputs": [],
   "source": [
    "# Criterion and Optimizer\n",
    "criterion = torch.nn.CrossEntropyLoss()  \n",
    "\n",
    "learning_rate = 1\n",
    "optimizer = torch.optim.Adam(model.parameters(), lr=learning_rate)"
   ]
  },
  {
   "cell_type": "markdown",
   "metadata": {},
   "source": [
    "### Train the model "
   ]
  },
  {
   "cell_type": "code",
   "execution_count": 203,
   "metadata": {},
   "outputs": [
    {
     "name": "stdout",
     "output_type": "stream",
     "text": [
      "torch.Size([32, 100])\n",
      "torch.Size([32, 100, 100])\n",
      "torch.Size([32, 100])\n",
      "torch.Size([32, 100, 100])\n",
      "torch.Size([32, 100])\n",
      "torch.Size([32, 100, 100])\n",
      "torch.Size([32, 100])\n",
      "torch.Size([32, 100, 100])\n",
      "torch.Size([32, 100])\n",
      "torch.Size([32, 100, 100])\n",
      "torch.Size([32, 100])\n",
      "torch.Size([32, 100, 100])\n",
      "torch.Size([32, 100])\n",
      "torch.Size([32, 100, 100])\n",
      "torch.Size([32, 100])\n",
      "torch.Size([32, 100, 100])\n",
      "torch.Size([32, 100])\n",
      "torch.Size([32, 100, 100])\n",
      "torch.Size([32, 100])\n",
      "torch.Size([32, 100, 100])\n",
      "torch.Size([32, 100])\n",
      "torch.Size([32, 100, 100])\n",
      "torch.Size([32, 100])\n",
      "torch.Size([32, 100, 100])\n",
      "torch.Size([32, 100])\n",
      "torch.Size([32, 100, 100])\n",
      "torch.Size([32, 100])\n",
      "torch.Size([32, 100, 100])\n",
      "torch.Size([32, 100])\n",
      "torch.Size([32, 100, 100])\n",
      "torch.Size([32, 100])\n",
      "torch.Size([32, 100, 100])\n",
      "torch.Size([32, 100])\n",
      "torch.Size([32, 100, 100])\n",
      "torch.Size([32, 100])\n",
      "torch.Size([32, 100, 100])\n",
      "torch.Size([32, 100])\n",
      "torch.Size([32, 100, 100])\n",
      "torch.Size([32, 100])\n",
      "torch.Size([32, 100, 100])\n",
      "torch.Size([32, 100])\n",
      "torch.Size([32, 100, 100])\n",
      "torch.Size([32, 100])\n",
      "torch.Size([32, 100, 100])\n",
      "torch.Size([32, 100])\n",
      "torch.Size([32, 100, 100])\n",
      "torch.Size([32, 100])\n",
      "torch.Size([32, 100, 100])\n",
      "torch.Size([32, 100])\n",
      "torch.Size([32, 100, 100])\n",
      "torch.Size([32, 100])\n",
      "torch.Size([32, 100, 100])\n",
      "torch.Size([32, 100])\n",
      "torch.Size([32, 100, 100])\n",
      "torch.Size([32, 100])\n",
      "torch.Size([32, 100, 100])\n",
      "torch.Size([32, 100])\n",
      "torch.Size([32, 100, 100])\n",
      "torch.Size([32, 100])\n",
      "torch.Size([32, 100, 100])\n",
      "torch.Size([32, 100])\n",
      "torch.Size([32, 100, 100])\n",
      "torch.Size([32, 100])\n",
      "torch.Size([32, 100, 100])\n",
      "torch.Size([32, 100])\n",
      "torch.Size([32, 100, 100])\n",
      "torch.Size([32, 100])\n",
      "torch.Size([32, 100, 100])\n",
      "torch.Size([32, 100])\n",
      "torch.Size([32, 100, 100])\n",
      "torch.Size([32, 100])\n",
      "torch.Size([32, 100, 100])\n",
      "torch.Size([32, 100])\n",
      "torch.Size([32, 100, 100])\n",
      "torch.Size([32, 100])\n",
      "torch.Size([32, 100, 100])\n",
      "torch.Size([32, 100])\n",
      "torch.Size([32, 100, 100])\n",
      "torch.Size([32, 100])\n",
      "torch.Size([32, 100, 100])\n",
      "torch.Size([32, 100])\n",
      "torch.Size([32, 100, 100])\n",
      "torch.Size([32, 100])\n",
      "torch.Size([32, 100, 100])\n",
      "torch.Size([32, 100])\n",
      "torch.Size([32, 100, 100])\n",
      "torch.Size([32, 100])\n",
      "torch.Size([32, 100, 100])\n",
      "torch.Size([32, 100])\n",
      "torch.Size([32, 100, 100])\n",
      "torch.Size([32, 100])\n",
      "torch.Size([32, 100, 100])\n",
      "torch.Size([32, 100])\n",
      "torch.Size([32, 100, 100])\n",
      "torch.Size([32, 100])\n",
      "torch.Size([32, 100, 100])\n",
      "torch.Size([32, 100])\n",
      "torch.Size([32, 100, 100])\n",
      "torch.Size([32, 100])\n",
      "torch.Size([32, 100, 100])\n",
      "torch.Size([32, 100])\n",
      "torch.Size([32, 100, 100])\n",
      "torch.Size([32, 100])\n",
      "torch.Size([32, 100, 100])\n",
      "torch.Size([32, 100])\n",
      "torch.Size([32, 100, 100])\n",
      "torch.Size([32, 100])\n",
      "torch.Size([32, 100, 100])\n",
      "torch.Size([32, 100])\n",
      "torch.Size([32, 100, 100])\n",
      "torch.Size([32, 100])\n",
      "torch.Size([32, 100, 100])\n",
      "torch.Size([32, 100])\n",
      "torch.Size([32, 100, 100])\n",
      "torch.Size([32, 100])\n",
      "torch.Size([32, 100, 100])\n",
      "torch.Size([32, 100])\n",
      "torch.Size([32, 100, 100])\n",
      "torch.Size([32, 100])\n",
      "torch.Size([32, 100, 100])\n",
      "torch.Size([32, 100])\n",
      "torch.Size([32, 100, 100])\n",
      "torch.Size([32, 100])\n",
      "torch.Size([32, 100, 100])\n",
      "torch.Size([32, 100])\n",
      "torch.Size([32, 100, 100])\n",
      "torch.Size([32, 100])\n",
      "torch.Size([32, 100, 100])\n",
      "torch.Size([32, 100])\n",
      "torch.Size([32, 100, 100])\n",
      "torch.Size([32, 100])\n",
      "torch.Size([32, 100, 100])\n",
      "torch.Size([32, 100])\n",
      "torch.Size([32, 100, 100])\n",
      "torch.Size([32, 100])\n",
      "torch.Size([32, 100, 100])\n",
      "torch.Size([32, 100])\n",
      "torch.Size([32, 100, 100])\n",
      "torch.Size([32, 100])\n",
      "torch.Size([32, 100, 100])\n",
      "torch.Size([32, 100])\n",
      "torch.Size([32, 100, 100])\n",
      "torch.Size([32, 100])\n",
      "torch.Size([32, 100, 100])\n",
      "torch.Size([32, 100])\n",
      "torch.Size([32, 100, 100])\n",
      "torch.Size([32, 100])\n",
      "torch.Size([32, 100, 100])\n",
      "torch.Size([32, 100])\n",
      "torch.Size([32, 100, 100])\n",
      "torch.Size([32, 100])\n",
      "torch.Size([32, 100, 100])\n",
      "torch.Size([32, 100])\n",
      "torch.Size([32, 100, 100])\n",
      "torch.Size([32, 100])\n",
      "torch.Size([32, 100, 100])\n",
      "torch.Size([32, 100])\n",
      "torch.Size([32, 100, 100])\n",
      "torch.Size([32, 100])\n",
      "torch.Size([32, 100, 100])\n",
      "torch.Size([32, 100])\n",
      "torch.Size([32, 100, 100])\n",
      "torch.Size([32, 100])\n",
      "torch.Size([32, 100, 100])\n",
      "torch.Size([32, 100])\n",
      "torch.Size([32, 100, 100])\n",
      "torch.Size([32, 100])\n",
      "torch.Size([32, 100, 100])\n",
      "torch.Size([32, 100])\n",
      "torch.Size([32, 100, 100])\n",
      "torch.Size([32, 100])\n",
      "torch.Size([32, 100, 100])\n",
      "torch.Size([32, 100])\n",
      "torch.Size([32, 100, 100])\n",
      "torch.Size([32, 100])\n",
      "torch.Size([32, 100, 100])\n",
      "torch.Size([32, 100])\n",
      "torch.Size([32, 100, 100])\n",
      "torch.Size([32, 100])\n",
      "torch.Size([32, 100, 100])\n",
      "torch.Size([32, 100])\n",
      "torch.Size([32, 100, 100])\n",
      "torch.Size([32, 100])\n",
      "torch.Size([32, 100, 100])\n",
      "torch.Size([32, 100])\n",
      "torch.Size([32, 100, 100])\n",
      "torch.Size([32, 100])\n",
      "torch.Size([32, 100, 100])\n",
      "torch.Size([32, 100])\n",
      "torch.Size([32, 100, 100])\n",
      "torch.Size([32, 100])\n",
      "torch.Size([32, 100, 100])\n",
      "torch.Size([32, 100])\n",
      "torch.Size([32, 100, 100])\n",
      "torch.Size([32, 100])\n",
      "torch.Size([32, 100, 100])\n",
      "torch.Size([32, 100])\n",
      "torch.Size([32, 100, 100])\n",
      "torch.Size([32, 100])\n",
      "torch.Size([32, 100, 100])\n",
      "torch.Size([32, 100])\n",
      "torch.Size([32, 100, 100])\n"
     ]
    },
    {
     "ename": "KeyboardInterrupt",
     "evalue": "",
     "output_type": "error",
     "traceback": [
      "\u001b[0;31m---------------------------------------------------------------------------\u001b[0m",
      "\u001b[0;31mKeyboardInterrupt\u001b[0m                         Traceback (most recent call last)",
      "\u001b[0;32m<ipython-input-203-0b860f1cf902>\u001b[0m in \u001b[0;36m<module>\u001b[0;34m\u001b[0m\n\u001b[1;32m     36\u001b[0m         \u001b[0mloss\u001b[0m \u001b[0;34m=\u001b[0m \u001b[0mcriterion\u001b[0m\u001b[0;34m(\u001b[0m\u001b[0moutputs\u001b[0m\u001b[0;34m,\u001b[0m \u001b[0mlabel_batch\u001b[0m\u001b[0;34m)\u001b[0m\u001b[0;34m\u001b[0m\u001b[0;34m\u001b[0m\u001b[0m\n\u001b[1;32m     37\u001b[0m         \u001b[0mloss\u001b[0m\u001b[0;34m.\u001b[0m\u001b[0mbackward\u001b[0m\u001b[0;34m(\u001b[0m\u001b[0;34m)\u001b[0m\u001b[0;34m\u001b[0m\u001b[0;34m\u001b[0m\u001b[0m\n\u001b[0;32m---> 38\u001b[0;31m         \u001b[0moptimizer\u001b[0m\u001b[0;34m.\u001b[0m\u001b[0mstep\u001b[0m\u001b[0;34m(\u001b[0m\u001b[0;34m)\u001b[0m\u001b[0;34m\u001b[0m\u001b[0;34m\u001b[0m\u001b[0m\n\u001b[0m\u001b[1;32m     39\u001b[0m         \u001b[0;31m# validate every 100 iterations\u001b[0m\u001b[0;34m\u001b[0m\u001b[0;34m\u001b[0m\u001b[0;34m\u001b[0m\u001b[0m\n\u001b[1;32m     40\u001b[0m         \u001b[0;32mif\u001b[0m \u001b[0mi\u001b[0m \u001b[0;34m>\u001b[0m \u001b[0;36m0\u001b[0m \u001b[0;32mand\u001b[0m \u001b[0mi\u001b[0m \u001b[0;34m%\u001b[0m \u001b[0;36m100\u001b[0m \u001b[0;34m==\u001b[0m \u001b[0;36m0\u001b[0m\u001b[0;34m:\u001b[0m\u001b[0;34m\u001b[0m\u001b[0;34m\u001b[0m\u001b[0m\n",
      "\u001b[0;32m/anaconda3/lib/python3.7/site-packages/torch/optim/adam.py\u001b[0m in \u001b[0;36mstep\u001b[0;34m(self, closure)\u001b[0m\n\u001b[1;32m    101\u001b[0m                     \u001b[0mdenom\u001b[0m \u001b[0;34m=\u001b[0m \u001b[0;34m(\u001b[0m\u001b[0mmax_exp_avg_sq\u001b[0m\u001b[0;34m.\u001b[0m\u001b[0msqrt\u001b[0m\u001b[0;34m(\u001b[0m\u001b[0;34m)\u001b[0m \u001b[0;34m/\u001b[0m \u001b[0mmath\u001b[0m\u001b[0;34m.\u001b[0m\u001b[0msqrt\u001b[0m\u001b[0;34m(\u001b[0m\u001b[0mbias_correction2\u001b[0m\u001b[0;34m)\u001b[0m\u001b[0;34m)\u001b[0m\u001b[0;34m.\u001b[0m\u001b[0madd_\u001b[0m\u001b[0;34m(\u001b[0m\u001b[0mgroup\u001b[0m\u001b[0;34m[\u001b[0m\u001b[0;34m'eps'\u001b[0m\u001b[0;34m]\u001b[0m\u001b[0;34m)\u001b[0m\u001b[0;34m\u001b[0m\u001b[0;34m\u001b[0m\u001b[0m\n\u001b[1;32m    102\u001b[0m                 \u001b[0;32melse\u001b[0m\u001b[0;34m:\u001b[0m\u001b[0;34m\u001b[0m\u001b[0;34m\u001b[0m\u001b[0m\n\u001b[0;32m--> 103\u001b[0;31m                     \u001b[0mdenom\u001b[0m \u001b[0;34m=\u001b[0m \u001b[0;34m(\u001b[0m\u001b[0mexp_avg_sq\u001b[0m\u001b[0;34m.\u001b[0m\u001b[0msqrt\u001b[0m\u001b[0;34m(\u001b[0m\u001b[0;34m)\u001b[0m \u001b[0;34m/\u001b[0m \u001b[0mmath\u001b[0m\u001b[0;34m.\u001b[0m\u001b[0msqrt\u001b[0m\u001b[0;34m(\u001b[0m\u001b[0mbias_correction2\u001b[0m\u001b[0;34m)\u001b[0m\u001b[0;34m)\u001b[0m\u001b[0;34m.\u001b[0m\u001b[0madd_\u001b[0m\u001b[0;34m(\u001b[0m\u001b[0mgroup\u001b[0m\u001b[0;34m[\u001b[0m\u001b[0;34m'eps'\u001b[0m\u001b[0;34m]\u001b[0m\u001b[0;34m)\u001b[0m\u001b[0;34m\u001b[0m\u001b[0;34m\u001b[0m\u001b[0m\n\u001b[0m\u001b[1;32m    104\u001b[0m \u001b[0;34m\u001b[0m\u001b[0m\n\u001b[1;32m    105\u001b[0m                 \u001b[0mstep_size\u001b[0m \u001b[0;34m=\u001b[0m \u001b[0mgroup\u001b[0m\u001b[0;34m[\u001b[0m\u001b[0;34m'lr'\u001b[0m\u001b[0;34m]\u001b[0m \u001b[0;34m/\u001b[0m \u001b[0mbias_correction1\u001b[0m\u001b[0;34m\u001b[0m\u001b[0;34m\u001b[0m\u001b[0m\n",
      "\u001b[0;31mKeyboardInterrupt\u001b[0m: "
     ]
    }
   ],
   "source": [
    "num_epochs = 10 # number epoch to train\n",
    "\n",
    "# Function for testing the model\n",
    "def test_model(loader, model):\n",
    "    \"\"\"\n",
    "    Help function that tests the model's performance on a dataset\n",
    "    @param: loader - data loader for the dataset to test against\n",
    "    \"\"\"\n",
    "    correct = 0\n",
    "    total = 0\n",
    "    model.eval()\n",
    "    for data, lengths, labels in loader:\n",
    "        \n",
    "        data_batch, length_batch, label_batch = data.type(torch.LongTensor), lengths, labels\n",
    "        \n",
    "        print('model')\n",
    "        print(model(data_batch, length_batch))\n",
    "        outputs = F.softmax(model(data_batch, length_batch), dim=1)\n",
    "        \n",
    "        print('after softmax')\n",
    "        print(outputs)\n",
    "        \n",
    "        predicted = outputs.max(1, keepdim=True)[1]\n",
    "        \n",
    "        total += labels.size(0)\n",
    "        correct += predicted.eq(labels.view_as(predicted)).sum().item()\n",
    "    return (100 * correct / total)\n",
    "\n",
    "for epoch in range(num_epochs):\n",
    "    for i, (data, lengths, labels) in enumerate(train_loader):\n",
    "        model.train()\n",
    "        \n",
    "        data_batch, length_batch, label_batch = data.type(torch.LongTensor), lengths, labels\n",
    "        optimizer.zero_grad()\n",
    "        outputs = model(data_batch, length_batch)\n",
    "        loss = criterion(outputs, label_batch)\n",
    "        loss.backward()\n",
    "        optimizer.step()\n",
    "        # validate every 100 iterations\n",
    "        if i > 0 and i % 100 == 0:\n",
    "            # validate\n",
    "            train_acc = test_model(train_loader, model)\n",
    "            val_acc = test_model(val_loader, model)\n",
    "            print('Epoch: [{}/{}], Step: [{}/{}], Training Acc: {}, Validation Acc: {}'.format( \n",
    "                       epoch+1, num_epochs, i+1, len(train_loader), train_acc, val_acc))"
   ]
  },
  {
   "cell_type": "code",
   "execution_count": null,
   "metadata": {},
   "outputs": [],
   "source": [
    "print (\"After training for {} epochs\".format(num_epochs))\n",
    "print (\"Train Acc {}\".format(test_model(train_loader, model)))\n",
    "print (\"Val Acc {}\".format(test_model(val_loader, model)))"
   ]
  },
  {
   "cell_type": "code",
   "execution_count": 146,
   "metadata": {},
   "outputs": [
    {
     "ename": "TypeError",
     "evalue": "'method' object is not subscriptable",
     "output_type": "error",
     "traceback": [
      "\u001b[0;31m---------------------------------------------------------------------------\u001b[0m",
      "\u001b[0;31mTypeError\u001b[0m                                 Traceback (most recent call last)",
      "\u001b[0;32m<ipython-input-146-e8405eb10b60>\u001b[0m in \u001b[0;36m<module>\u001b[0;34m\u001b[0m\n\u001b[0;32m----> 1\u001b[0;31m \u001b[0mmodel\u001b[0m\u001b[0;34m.\u001b[0m\u001b[0mparameters\u001b[0m\u001b[0;34m[\u001b[0m\u001b[0;34m'embed'\u001b[0m\u001b[0;34m]\u001b[0m\u001b[0;34m\u001b[0m\u001b[0;34m\u001b[0m\u001b[0m\n\u001b[0m",
      "\u001b[0;31mTypeError\u001b[0m: 'method' object is not subscriptable"
     ]
    }
   ],
   "source": [
    "model.parameters['embed"
   ]
  },
  {
   "cell_type": "code",
   "execution_count": null,
   "metadata": {},
   "outputs": [],
   "source": []
  }
 ],
 "metadata": {
  "kernelspec": {
   "display_name": "Python 3",
   "language": "python",
   "name": "python3"
  },
  "language_info": {
   "codemirror_mode": {
    "name": "ipython",
    "version": 3
   },
   "file_extension": ".py",
   "mimetype": "text/x-python",
   "name": "python",
   "nbconvert_exporter": "python",
   "pygments_lexer": "ipython3",
   "version": "3.7.6"
  }
 },
 "nbformat": 4,
 "nbformat_minor": 2
}
