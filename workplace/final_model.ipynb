{
 "cells": [
  {
   "cell_type": "markdown",
   "metadata": {},
   "source": [
    "### Load Data"
   ]
  },
  {
   "cell_type": "code",
   "execution_count": 1,
   "metadata": {},
   "outputs": [],
   "source": [
    "import numpy as np\n",
    "import pandas as pd\n",
    "import pickle as pkl\n",
    "from itertools import chain\n",
    "from collections import Counter"
   ]
  },
  {
   "cell_type": "code",
   "execution_count": 2,
   "metadata": {},
   "outputs": [],
   "source": [
    "# Load data\n",
    "train = pd.read_csv('../data/train.csv', index_col='ex_id')\n",
    "val = pd.read_csv('../data/dev.csv', index_col='ex_id')\n",
    "test = pd.read_csv('../data/test_no_label.csv', index_col='ex_id')\n",
    "\n",
    "# Load tokenized data\n",
    "train_data_tokens = pkl.load(open(\"../data/tokens/train_data_tokens.pkl\", \"rb\"))\n",
    "val_data_tokens = pkl.load(open(\"../data/tokens/val_data_tokens.pkl\", \"rb\"))\n",
    "test_data_tokens = pkl.load(open(\"../data/tokens/test_data_tokens.pkl\", \"rb\"))"
   ]
  },
  {
   "cell_type": "code",
   "execution_count": 3,
   "metadata": {},
   "outputs": [],
   "source": [
    "# Combine train and val for final\n",
    "train = pd.concat([train, val])\n",
    "train_data_tokens = train_data_tokens + val_data_tokens\n",
    "all_train_tokens = list(chain.from_iterable(train_data_tokens))"
   ]
  },
  {
   "cell_type": "code",
   "execution_count": 4,
   "metadata": {},
   "outputs": [],
   "source": [
    "# Vocab\n",
    "def build_vocab(all_tokens, threshold):\n",
    "    c = Counter(all_tokens)\n",
    "    vocab = [word for word, count in Counter(all_train_tokens).items() if count >= threshold]\n",
    "    id2token = vocab\n",
    "    token2id = dict(zip(vocab, range(len(vocab))))\n",
    "    return token2id, id2token\n",
    "\n",
    "token2id, id2token = build_vocab(all_train_tokens, 20)"
   ]
  },
  {
   "cell_type": "code",
   "execution_count": 5,
   "metadata": {},
   "outputs": [],
   "source": [
    "# TFIDF Vectorizer\n",
    "from sklearn.feature_extraction.text import TfidfVectorizer\n",
    "\n",
    "def dummy(doc):\n",
    "    return doc\n",
    "\n",
    "tfidf_vec = TfidfVectorizer(lowercase=False, preprocessor=dummy, tokenizer=dummy, vocabulary=token2id)  \n",
    "\n",
    "X_train_tfidf = tfidf_vec.fit_transform(train_data_tokens)\n",
    "X_test_tfidf = tfidf_vec.transform(test_data_tokens)"
   ]
  },
  {
   "cell_type": "code",
   "execution_count": 6,
   "metadata": {},
   "outputs": [],
   "source": [
    "# Get labels\n",
    "y_train = train.label.values\n",
    "y_test = test.label.values"
   ]
  },
  {
   "cell_type": "markdown",
   "metadata": {},
   "source": [
    "### Train Latent Factor Model"
   ]
  },
  {
   "cell_type": "markdown",
   "metadata": {},
   "source": [
    "##### MyAlgo"
   ]
  },
  {
   "cell_type": "code",
   "execution_count": 7,
   "metadata": {},
   "outputs": [],
   "source": [
    "from surprise import AlgoBase\n",
    "from surprise import SVD\n",
    "from surprise import PredictionImpossible\n",
    "\n",
    "class MyAlgo(SVD):\n",
    "\n",
    "    def __init__(self, n_factors=25, n_epochs=20, biased=False, \n",
    "                 lr_all=.005, reg_all=.1, random_state=None, verbose=False):\n",
    "\n",
    "        SVD.__init__(self, n_factors=n_factors, n_epochs=n_epochs, \n",
    "                     biased=biased, lr_all=lr_all, reg_all=reg_all, \n",
    "                     random_state=random_state, verbose=verbose)\n",
    "\n",
    "    def fit(self, trainset):\n",
    "\n",
    "        SVD.fit(self, trainset)\n",
    "\n",
    "        return self\n",
    "\n",
    "    def estimate(self, u, i):\n",
    "\n",
    "        known_user = self.trainset.knows_user(u)\n",
    "        known_item = self.trainset.knows_item(i)\n",
    "\n",
    "        if known_user and known_item:\n",
    "\n",
    "            if self.biased:\n",
    "                est = self.trainset.global_mean\n",
    "                if known_user:\n",
    "                    est += self.bu[u]\n",
    "\n",
    "                if known_item:\n",
    "                    est += self.bi[i]\n",
    "\n",
    "                if known_user and known_item:\n",
    "                    est += np.dot(self.qi[i], self.pu[u])\n",
    "\n",
    "            else:\n",
    "                est = np.dot(self.qi[i], self.pu[u])    \n",
    "\n",
    "        else:\n",
    "            est = 0\n",
    "            raise PredictionImpossible('User and item are unknown.')\n",
    "\n",
    "        return est\n",
    "    \n",
    "    def test(self, testset, clip=False, verbose=False):\n",
    "        predictions = [self.predict(uid,\n",
    "                                    iid,\n",
    "                                    r_ui_trans,\n",
    "                                    clip=clip,\n",
    "                                    verbose=verbose)\n",
    "                       for (uid, iid, r_ui_trans) in testset]\n",
    "        return predictions"
   ]
  },
  {
   "cell_type": "markdown",
   "metadata": {},
   "source": [
    "##### Construct ALS Dataset"
   ]
  },
  {
   "cell_type": "code",
   "execution_count": 8,
   "metadata": {},
   "outputs": [],
   "source": [
    "from surprise import Dataset, Reader, accuracy\n",
    "\n",
    "# Get train data\n",
    "# SELECT user_id, prod_id, rating FROM train WHERE label = 0\n",
    "train_als = train[(train['label'] == 0)][['user_id', 'prod_id', 'rating']]\n",
    "\n",
    "# The columns must correspond to user id, item id and ratings (in that order)\n",
    "reader = Reader(rating_scale=(1, 5))\n",
    "data = Dataset.load_from_df(train_als[['user_id', 'prod_id', 'rating']], reader)"
   ]
  },
  {
   "cell_type": "markdown",
   "metadata": {},
   "source": [
    "##### Train Model"
   ]
  },
  {
   "cell_type": "code",
   "execution_count": 9,
   "metadata": {},
   "outputs": [
    {
     "data": {
      "text/plain": [
       "<__main__.MyAlgo at 0x11e965610>"
      ]
     },
     "execution_count": 9,
     "metadata": {},
     "output_type": "execute_result"
    }
   ],
   "source": [
    "rank = 25\n",
    "reg = 0.1\n",
    "\n",
    "algo = MyAlgo(n_factors=rank, reg_all=reg, biased=True,\n",
    "              lr_all=0.005, n_epochs=30, verbose=False, random_state=None)\n",
    "\n",
    "algo.fit(data.build_full_trainset())\n",
    "\n",
    "# user_factors = algo.pu\n",
    "# prod_factors = algo.qi"
   ]
  },
  {
   "cell_type": "markdown",
   "metadata": {},
   "source": [
    "#### Generate rating features & Combine rating features and review features"
   ]
  },
  {
   "cell_type": "code",
   "execution_count": 10,
   "metadata": {},
   "outputs": [],
   "source": [
    "from scipy.sparse import csr_matrix, coo_matrix, hstack\n",
    "\n",
    "# predicted_rating & is_missing & actual_rating & diff\n",
    "def get_rating_features(val, algo):\n",
    "    testset = list(zip(val['user_id'].values, val['prod_id'].values, val['rating'].values))\n",
    "    predictions = algo.test(testset)\n",
    "    pred_rating = []\n",
    "    is_missing = []\n",
    "    actual_rating = []\n",
    "    diff = []\n",
    "    \n",
    "    for pred in predictions:\n",
    "        pred_rating.append(pred.est)\n",
    "        is_missing.append( int(pred.details['was_impossible']) )\n",
    "        actual_rating.append(pred.r_ui)\n",
    "        diff.append(pred.r_ui - pred.est)\n",
    "    \n",
    "    rating_features = list(zip(pred_rating, is_missing, actual_rating, diff))\n",
    "\n",
    "    return rating_features\n",
    "\n",
    "def combine_features(rating_features, review_features):\n",
    "    return hstack( [csr_matrix(rating_features), review_features], format='csr' )"
   ]
  },
  {
   "cell_type": "code",
   "execution_count": 11,
   "metadata": {},
   "outputs": [],
   "source": [
    "train_rating_features = get_rating_features(train, algo)\n",
    "X_train = combine_features(train_rating_features, X_train_tfidf)\n",
    "\n",
    "test_rating_features = get_rating_features(test, algo)\n",
    "X_test = combine_features(test_rating_features, X_test_tfidf)"
   ]
  },
  {
   "cell_type": "markdown",
   "metadata": {},
   "source": [
    "### Logistic Regression"
   ]
  },
  {
   "cell_type": "code",
   "execution_count": 12,
   "metadata": {},
   "outputs": [],
   "source": [
    "from sklearn.linear_model import LogisticRegression"
   ]
  },
  {
   "cell_type": "code",
   "execution_count": 13,
   "metadata": {},
   "outputs": [
    {
     "data": {
      "text/plain": [
       "LogisticRegression(C=0.4, class_weight=None, dual=False, fit_intercept=True,\n",
       "                   intercept_scaling=1, l1_ratio=None, max_iter=1000,\n",
       "                   multi_class='auto', n_jobs=None, penalty='l2',\n",
       "                   random_state=None, solver='lbfgs', tol=0.0001, verbose=0,\n",
       "                   warm_start=False)"
      ]
     },
     "execution_count": 13,
     "metadata": {},
     "output_type": "execute_result"
    }
   ],
   "source": [
    "lr = LogisticRegression(C=0.4, max_iter=1000)\n",
    "lr.fit(X_train, y_train)"
   ]
  },
  {
   "cell_type": "code",
   "execution_count": 33,
   "metadata": {},
   "outputs": [],
   "source": [
    "pred = lr.predict_proba(X_test)[:, 1]"
   ]
  },
  {
   "cell_type": "code",
   "execution_count": 35,
   "metadata": {},
   "outputs": [],
   "source": [
    "# Predict\n",
    "test['pred'] = pred"
   ]
  },
  {
   "cell_type": "code",
   "execution_count": 37,
   "metadata": {},
   "outputs": [],
   "source": [
    "# Save result\n",
    "test[['pred']].to_csv('predictions.csv', index=False, header=False)"
   ]
  },
  {
   "cell_type": "code",
   "execution_count": null,
   "metadata": {},
   "outputs": [],
   "source": []
  }
 ],
 "metadata": {
  "kernelspec": {
   "display_name": "Python 3",
   "language": "python",
   "name": "python3"
  },
  "language_info": {
   "codemirror_mode": {
    "name": "ipython",
    "version": 3
   },
   "file_extension": ".py",
   "mimetype": "text/x-python",
   "name": "python",
   "nbconvert_exporter": "python",
   "pygments_lexer": "ipython3",
   "version": "3.7.6"
  }
 },
 "nbformat": 4,
 "nbformat_minor": 4
}
